{
  "nbformat": 4,
  "nbformat_minor": 0,
  "metadata": {
    "colab": {
      "name": "fast api model.ipynb",
      "provenance": []
    },
    "kernelspec": {
      "name": "python3",
      "display_name": "Python 3"
    }
  },
  "cells": [
    {
      "cell_type": "code",
      "metadata": {
        "id": "4ZcKEICq6b88",
        "colab_type": "code",
        "colab": {
          "base_uri": "https://localhost:8080/",
          "height": 118
        },
        "outputId": "839bf30b-23ad-4f4c-8fda-6567d3d08df5"
      },
      "source": [
        "!pip install vaderSentiment\n",
        "\n",
        "import pandas as pd\n",
        "import numpy as np\n",
        "from vaderSentiment.vaderSentiment import SentimentIntensityAnalyzer"
      ],
      "execution_count": 1,
      "outputs": [
        {
          "output_type": "stream",
          "text": [
            "Requirement already satisfied: vaderSentiment in /usr/local/lib/python3.6/dist-packages (3.3.2)\n",
            "Requirement already satisfied: requests in /usr/local/lib/python3.6/dist-packages (from vaderSentiment) (2.23.0)\n",
            "Requirement already satisfied: urllib3!=1.25.0,!=1.25.1,<1.26,>=1.21.1 in /usr/local/lib/python3.6/dist-packages (from requests->vaderSentiment) (1.24.3)\n",
            "Requirement already satisfied: certifi>=2017.4.17 in /usr/local/lib/python3.6/dist-packages (from requests->vaderSentiment) (2020.6.20)\n",
            "Requirement already satisfied: idna<3,>=2.5 in /usr/local/lib/python3.6/dist-packages (from requests->vaderSentiment) (2.10)\n",
            "Requirement already satisfied: chardet<4,>=3.0.2 in /usr/local/lib/python3.6/dist-packages (from requests->vaderSentiment) (3.0.4)\n"
          ],
          "name": "stdout"
        }
      ]
    },
    {
      "cell_type": "markdown",
      "metadata": {
        "id": "lAwtaCsi6gFj",
        "colab_type": "text"
      },
      "source": [
        "# Hard encode Input Dictionary"
      ]
    },
    {
      "cell_type": "code",
      "metadata": {
        "id": "1x7joJzNWkc_",
        "colab_type": "code",
        "colab": {}
      },
      "source": [
        "input = {\n",
        "    \"name\": \"terrible MegaBuster from Megaman X\",\n",
        "    \"goal\": 10000,\n",
        "    \"launched\": \"2015-08-11\",\n",
        "    \"deadline\": \"2015-08-18\",\n",
        "    \"backers\":21,\n",
        "    \"main_category\": 11,\n",
        "    \"username\": \"LoginID\"\n",
        "}"
      ],
      "execution_count": 2,
      "outputs": []
    },
    {
      "cell_type": "code",
      "metadata": {
        "id": "lY76DqjiWkL2",
        "colab_type": "code",
        "colab": {}
      },
      "source": [
        ""
      ],
      "execution_count": 2,
      "outputs": []
    },
    {
      "cell_type": "markdown",
      "metadata": {
        "id": "WeXG-A1X6gCs",
        "colab_type": "text"
      },
      "source": [
        "# Make a function that takes in input dict and converts to dataframe"
      ]
    },
    {
      "cell_type": "code",
      "metadata": {
        "id": "JPUAM9YYYSAN",
        "colab_type": "code",
        "colab": {}
      },
      "source": [
        "def framemaker(web_in):\n",
        "# making dataframe out of dict  \n",
        "  input_frame = pd.DataFrame(web_in, index=[0])\n",
        "\n",
        "# changing datatype of start and end to date time\n",
        "# adding column length of campaign\n",
        "  input_frame['deadline'] = pd.to_datetime(input_frame['deadline'])\n",
        "  input_frame['launched'] = pd.to_datetime(input_frame['launched'])\n",
        "  input_frame['length_of_campaign'] = (input_frame['deadline'] - input_frame['launched']).dt.days\n",
        "\n",
        "# Using a pretrained neural network to encode title to numbers\n",
        "# Adding numbers to column as sentiments\n",
        "  sentiments =[] \n",
        "  analyzer = SentimentIntensityAnalyzer()\n",
        "  for sentence in input_frame['name']:\n",
        "    vs = analyzer.polarity_scores(sentence)\n",
        "    sentiments.append(vs['compound'])\n",
        "  input_frame['sentiments'] = sentiments\n",
        "  \n",
        "  # input_frame['goal'] = (input_frame['goal'].str.split()).apply(lambda x: float(x[0].replace(',', '')))\n",
        "  # input_frame['backers']= input_frame['backers'].astype(str).astype(int)\n",
        "\n",
        "  # Dropping unecessary username column\n",
        "  input_frame = input_frame.drop('username', axis=1)\n",
        "  input_frame = input_frame.drop('name', axis=1)\n",
        "  input_frame = input_frame.drop('launched', axis=1)\n",
        "  input_frame = input_frame.drop('deadline', axis=1)\n",
        "\n",
        "  input_frame = input_frame[['goal', 'backers', 'length_of_campaign', 'sentiments', 'main_category']]\n",
        "\n",
        "  userinput = input_frame.iloc[[0]]\n",
        "\n",
        "  return userinput "
      ],
      "execution_count": 3,
      "outputs": []
    },
    {
      "cell_type": "code",
      "metadata": {
        "id": "EtzT0CnwzL5N",
        "colab_type": "code",
        "colab": {}
      },
      "source": [
        "user_input = framemaker(input)"
      ],
      "execution_count": 4,
      "outputs": []
    },
    {
      "cell_type": "code",
      "metadata": {
        "id": "rLl-88GJ3h-S",
        "colab_type": "code",
        "colab": {
          "base_uri": "https://localhost:8080/",
          "height": 77
        },
        "outputId": "03bc2f68-eae8-4848-a5b7-01739600949f"
      },
      "source": [
        "user_input"
      ],
      "execution_count": 5,
      "outputs": [
        {
          "output_type": "execute_result",
          "data": {
            "text/html": [
              "<div>\n",
              "<style scoped>\n",
              "    .dataframe tbody tr th:only-of-type {\n",
              "        vertical-align: middle;\n",
              "    }\n",
              "\n",
              "    .dataframe tbody tr th {\n",
              "        vertical-align: top;\n",
              "    }\n",
              "\n",
              "    .dataframe thead th {\n",
              "        text-align: right;\n",
              "    }\n",
              "</style>\n",
              "<table border=\"1\" class=\"dataframe\">\n",
              "  <thead>\n",
              "    <tr style=\"text-align: right;\">\n",
              "      <th></th>\n",
              "      <th>goal</th>\n",
              "      <th>backers</th>\n",
              "      <th>length_of_campaign</th>\n",
              "      <th>sentiments</th>\n",
              "      <th>main_category</th>\n",
              "    </tr>\n",
              "  </thead>\n",
              "  <tbody>\n",
              "    <tr>\n",
              "      <th>0</th>\n",
              "      <td>10000</td>\n",
              "      <td>21</td>\n",
              "      <td>7</td>\n",
              "      <td>-0.4767</td>\n",
              "      <td>11</td>\n",
              "    </tr>\n",
              "  </tbody>\n",
              "</table>\n",
              "</div>"
            ],
            "text/plain": [
              "    goal  backers  length_of_campaign  sentiments  main_category\n",
              "0  10000       21                   7     -0.4767             11"
            ]
          },
          "metadata": {
            "tags": []
          },
          "execution_count": 5
        }
      ]
    },
    {
      "cell_type": "markdown",
      "metadata": {
        "id": "8DAfh6-a6gAH",
        "colab_type": "text"
      },
      "source": [
        "# Make function that takes in dataframe, uses model, and can make a prediction"
      ]
    },
    {
      "cell_type": "code",
      "metadata": {
        "id": "xgx3Fz9XyCMZ",
        "colab_type": "code",
        "colab": {
          "base_uri": "https://localhost:8080/",
          "height": 235
        },
        "outputId": "d4837677-9753-47b8-f13e-ddcd2be4c07b"
      },
      "source": [
        "!pip install category_encoders==2.*\n",
        "from sklearn.model_selection import train_test_split\n",
        "import category_encoders as ce\n",
        "from sklearn.impute import SimpleImputer\n",
        "from sklearn.linear_model import LogisticRegressionCV\n",
        "from sklearn.preprocessing import StandardScaler\n",
        "from sklearn.pipeline import Pipeline\n",
        "from category_encoders import OneHotEncoder, OrdinalEncoder\n"
      ],
      "execution_count": 6,
      "outputs": [
        {
          "output_type": "stream",
          "text": [
            "Requirement already satisfied: category_encoders==2.* in /usr/local/lib/python3.6/dist-packages (2.2.2)\n",
            "Requirement already satisfied: pandas>=0.21.1 in /usr/local/lib/python3.6/dist-packages (from category_encoders==2.*) (1.0.5)\n",
            "Requirement already satisfied: statsmodels>=0.9.0 in /usr/local/lib/python3.6/dist-packages (from category_encoders==2.*) (0.10.2)\n",
            "Requirement already satisfied: numpy>=1.14.0 in /usr/local/lib/python3.6/dist-packages (from category_encoders==2.*) (1.18.5)\n",
            "Requirement already satisfied: patsy>=0.5.1 in /usr/local/lib/python3.6/dist-packages (from category_encoders==2.*) (0.5.1)\n",
            "Requirement already satisfied: scipy>=1.0.0 in /usr/local/lib/python3.6/dist-packages (from category_encoders==2.*) (1.4.1)\n",
            "Requirement already satisfied: scikit-learn>=0.20.0 in /usr/local/lib/python3.6/dist-packages (from category_encoders==2.*) (0.22.2.post1)\n",
            "Requirement already satisfied: python-dateutil>=2.6.1 in /usr/local/lib/python3.6/dist-packages (from pandas>=0.21.1->category_encoders==2.*) (2.8.1)\n",
            "Requirement already satisfied: pytz>=2017.2 in /usr/local/lib/python3.6/dist-packages (from pandas>=0.21.1->category_encoders==2.*) (2018.9)\n",
            "Requirement already satisfied: six in /usr/local/lib/python3.6/dist-packages (from patsy>=0.5.1->category_encoders==2.*) (1.15.0)\n",
            "Requirement already satisfied: joblib>=0.11 in /usr/local/lib/python3.6/dist-packages (from scikit-learn>=0.20.0->category_encoders==2.*) (0.16.0)\n"
          ],
          "name": "stdout"
        },
        {
          "output_type": "stream",
          "text": [
            "/usr/local/lib/python3.6/dist-packages/statsmodels/tools/_testing.py:19: FutureWarning: pandas.util.testing is deprecated. Use the functions in the public API at pandas.testing instead.\n",
            "  import pandas.util.testing as tm\n"
          ],
          "name": "stderr"
        }
      ]
    },
    {
      "cell_type": "code",
      "metadata": {
        "id": "2b52i0YD64Ba",
        "colab_type": "code",
        "colab": {
          "base_uri": "https://localhost:8080/",
          "height": 418
        },
        "outputId": "200282c4-267b-422b-caab-9c4884000884"
      },
      "source": [
        "df = pd.read_csv('cleaned_kickstarter_data.csv')\n",
        "\n",
        "print(df.shape)\n",
        "df"
      ],
      "execution_count": 22,
      "outputs": [
        {
          "output_type": "stream",
          "text": [
            "(999, 9)\n"
          ],
          "name": "stdout"
        },
        {
          "output_type": "execute_result",
          "data": {
            "text/html": [
              "<div>\n",
              "<style scoped>\n",
              "    .dataframe tbody tr th:only-of-type {\n",
              "        vertical-align: middle;\n",
              "    }\n",
              "\n",
              "    .dataframe tbody tr th {\n",
              "        vertical-align: top;\n",
              "    }\n",
              "\n",
              "    .dataframe thead th {\n",
              "        text-align: right;\n",
              "    }\n",
              "</style>\n",
              "<table border=\"1\" class=\"dataframe\">\n",
              "  <thead>\n",
              "    <tr style=\"text-align: right;\">\n",
              "      <th></th>\n",
              "      <th>name</th>\n",
              "      <th>main_category</th>\n",
              "      <th>deadline</th>\n",
              "      <th>launched</th>\n",
              "      <th>goal</th>\n",
              "      <th>backers</th>\n",
              "      <th>length_of_campaign</th>\n",
              "      <th>project_success</th>\n",
              "      <th>sentiments</th>\n",
              "    </tr>\n",
              "  </thead>\n",
              "  <tbody>\n",
              "    <tr>\n",
              "      <th>0</th>\n",
              "      <td>The Songs of Adelaide &amp; Abullah</td>\n",
              "      <td>1</td>\n",
              "      <td>2015-10-09 11:36:00</td>\n",
              "      <td>2015-08-11 12:12:28</td>\n",
              "      <td>1000.0</td>\n",
              "      <td>0</td>\n",
              "      <td>58</td>\n",
              "      <td>0</td>\n",
              "      <td>0.0000</td>\n",
              "    </tr>\n",
              "    <tr>\n",
              "      <th>1</th>\n",
              "      <td>Where is Hank?</td>\n",
              "      <td>2</td>\n",
              "      <td>2013-02-26 00:20:50</td>\n",
              "      <td>2013-01-12 00:20:50</td>\n",
              "      <td>45000.0</td>\n",
              "      <td>3</td>\n",
              "      <td>45</td>\n",
              "      <td>0</td>\n",
              "      <td>0.0000</td>\n",
              "    </tr>\n",
              "    <tr>\n",
              "      <th>2</th>\n",
              "      <td>ToshiCapital Rekordz Needs Help to Complete Album</td>\n",
              "      <td>3</td>\n",
              "      <td>2012-04-16 04:24:11</td>\n",
              "      <td>2012-03-17 03:24:11</td>\n",
              "      <td>5000.0</td>\n",
              "      <td>1</td>\n",
              "      <td>30</td>\n",
              "      <td>0</td>\n",
              "      <td>0.4019</td>\n",
              "    </tr>\n",
              "    <tr>\n",
              "      <th>3</th>\n",
              "      <td>Community Film Project: The Art of Neighborhoo...</td>\n",
              "      <td>2</td>\n",
              "      <td>2015-08-29 01:00:00</td>\n",
              "      <td>2015-07-04 08:35:03</td>\n",
              "      <td>19500.0</td>\n",
              "      <td>14</td>\n",
              "      <td>55</td>\n",
              "      <td>0</td>\n",
              "      <td>0.0000</td>\n",
              "    </tr>\n",
              "    <tr>\n",
              "      <th>4</th>\n",
              "      <td>Monarch Espresso Bar</td>\n",
              "      <td>4</td>\n",
              "      <td>2016-04-01 13:38:27</td>\n",
              "      <td>2016-02-26 13:38:27</td>\n",
              "      <td>50000.0</td>\n",
              "      <td>224</td>\n",
              "      <td>35</td>\n",
              "      <td>1</td>\n",
              "      <td>0.0000</td>\n",
              "    </tr>\n",
              "    <tr>\n",
              "      <th>...</th>\n",
              "      <td>...</td>\n",
              "      <td>...</td>\n",
              "      <td>...</td>\n",
              "      <td>...</td>\n",
              "      <td>...</td>\n",
              "      <td>...</td>\n",
              "      <td>...</td>\n",
              "      <td>...</td>\n",
              "      <td>...</td>\n",
              "    </tr>\n",
              "    <tr>\n",
              "      <th>994</th>\n",
              "      <td>The 1st Motion Tracking DIY Smart Home Securit...</td>\n",
              "      <td>13</td>\n",
              "      <td>2016-12-31 03:54:32</td>\n",
              "      <td>2016-11-01 02:54:32</td>\n",
              "      <td>25000.0</td>\n",
              "      <td>397</td>\n",
              "      <td>60</td>\n",
              "      <td>1</td>\n",
              "      <td>0.6249</td>\n",
              "    </tr>\n",
              "    <tr>\n",
              "      <th>995</th>\n",
              "      <td>Veterans</td>\n",
              "      <td>12</td>\n",
              "      <td>2012-08-15 06:00:00</td>\n",
              "      <td>2012-07-09 05:39:06</td>\n",
              "      <td>5000.0</td>\n",
              "      <td>87</td>\n",
              "      <td>37</td>\n",
              "      <td>1</td>\n",
              "      <td>0.0000</td>\n",
              "    </tr>\n",
              "    <tr>\n",
              "      <th>996</th>\n",
              "      <td>MY VERY FIRST KICKSTARTER</td>\n",
              "      <td>2</td>\n",
              "      <td>2014-08-12 20:08:35</td>\n",
              "      <td>2014-07-13 20:08:35</td>\n",
              "      <td>6500.0</td>\n",
              "      <td>2</td>\n",
              "      <td>30</td>\n",
              "      <td>0</td>\n",
              "      <td>0.0000</td>\n",
              "    </tr>\n",
              "    <tr>\n",
              "      <th>997</th>\n",
              "      <td>This Song Is About You</td>\n",
              "      <td>3</td>\n",
              "      <td>2014-07-11 23:35:00</td>\n",
              "      <td>2014-06-11 23:35:00</td>\n",
              "      <td>40000.0</td>\n",
              "      <td>0</td>\n",
              "      <td>30</td>\n",
              "      <td>0</td>\n",
              "      <td>0.0000</td>\n",
              "    </tr>\n",
              "    <tr>\n",
              "      <th>998</th>\n",
              "      <td>Telemedicine wound care provider locator</td>\n",
              "      <td>13</td>\n",
              "      <td>2016-10-09 00:22:31</td>\n",
              "      <td>2016-09-09 00:22:31</td>\n",
              "      <td>50000.0</td>\n",
              "      <td>5</td>\n",
              "      <td>30</td>\n",
              "      <td>0</td>\n",
              "      <td>0.4939</td>\n",
              "    </tr>\n",
              "  </tbody>\n",
              "</table>\n",
              "<p>999 rows × 9 columns</p>\n",
              "</div>"
            ],
            "text/plain": [
              "                                                  name  ...  sentiments\n",
              "0                      The Songs of Adelaide & Abullah  ...      0.0000\n",
              "1                                       Where is Hank?  ...      0.0000\n",
              "2    ToshiCapital Rekordz Needs Help to Complete Album  ...      0.4019\n",
              "3    Community Film Project: The Art of Neighborhoo...  ...      0.0000\n",
              "4                                 Monarch Espresso Bar  ...      0.0000\n",
              "..                                                 ...  ...         ...\n",
              "994  The 1st Motion Tracking DIY Smart Home Securit...  ...      0.6249\n",
              "995                                           Veterans  ...      0.0000\n",
              "996                          MY VERY FIRST KICKSTARTER  ...      0.0000\n",
              "997                             This Song Is About You  ...      0.0000\n",
              "998           Telemedicine wound care provider locator  ...      0.4939\n",
              "\n",
              "[999 rows x 9 columns]"
            ]
          },
          "metadata": {
            "tags": []
          },
          "execution_count": 22
        }
      ]
    },
    {
      "cell_type": "code",
      "metadata": {
        "id": "VpFJM9jvgaia",
        "colab_type": "code",
        "colab": {}
      },
      "source": [
        "def model_maker():\n",
        "  train, test = train_test_split(df, train_size=0.80, test_size=0.20, \n",
        "                                 stratify=df['project_success'], random_state=42)\n",
        "  # select our target \n",
        "  target = 'project_success'\n",
        "\n",
        "  # make train without our target or id\n",
        "  train_features = train.drop(columns=[target])\n",
        "\n",
        "  # make numeric features\n",
        "  numeric_features = train_features.select_dtypes(include='number').columns.tolist()\n",
        "\n",
        "  # make a cardinality feature to help filter\n",
        "  cardinality = train_features.select_dtypes(exclude='number').nunique()\n",
        "\n",
        "  # get a list of relevant categorical data\n",
        "  categorical_features = cardinality[cardinality <=50].index.tolist()\n",
        "\n",
        "  # Combine the lists \n",
        "  features = numeric_features + categorical_features\n",
        "\n",
        "  X_train = train[features]\n",
        "  y_train = train[target]\n",
        "  X_test = test[features]\n",
        "  y_test = test[target]\n",
        "  # print(features)\n",
        "  # print(X_train.shape, X_test.shape)\n",
        "\n",
        "  lrmodel = Pipeline([\n",
        "                  ('ohe', OneHotEncoder(use_cat_names=True)),\n",
        "                  ('scaler', StandardScaler()),  \n",
        "                  ('impute', SimpleImputer()),\n",
        "                  ('classifier', LogisticRegressionCV())\n",
        "                  ])\n",
        "  lrmodel.fit(X_train, y_train)\n",
        "\n",
        "  return lrmodel\n",
        "\n",
        "lrmodel = model_maker()\n",
        "\n",
        "def predict(user_input):\n",
        "\n",
        "  if lrmodel.predict(user_input) == 1:\n",
        "    predict = {'predict': 'Your Kickstarter project is likely to succeed!'}\n",
        "    input.update(predict)\n",
        "    return input\n",
        "  else:\n",
        "    predict = {'predict':'Your Kickstarter project is likely to fail.'}\n",
        "    input.update(predict)\n",
        "    return input"
      ],
      "execution_count": 8,
      "outputs": []
    },
    {
      "cell_type": "code",
      "metadata": {
        "id": "HAi5T6LRyx1i",
        "colab_type": "code",
        "colab": {
          "base_uri": "https://localhost:8080/",
          "height": 151
        },
        "outputId": "a607a8e8-6252-4ec3-f0b4-240a64748c75"
      },
      "source": [
        "predict(user_input)"
      ],
      "execution_count": 9,
      "outputs": [
        {
          "output_type": "execute_result",
          "data": {
            "text/plain": [
              "{'backers': 21,\n",
              " 'deadline': '2015-08-18',\n",
              " 'goal': 10000,\n",
              " 'launched': '2015-08-11',\n",
              " 'main_category': 11,\n",
              " 'name': 'terrible MegaBuster from Megaman X',\n",
              " 'predict': 'Your Kickstarter project is likely to succeed!',\n",
              " 'username': 'LoginID'}"
            ]
          },
          "metadata": {
            "tags": []
          },
          "execution_count": 9
        }
      ]
    },
    {
      "cell_type": "code",
      "metadata": {
        "id": "yQ_52GcNEnkc",
        "colab_type": "code",
        "colab": {}
      },
      "source": [
        "# print(X_train)\n",
        "  # print('training accuracy:', lrmodel.score(X_train, y_train))\n",
        "  # print('test accuracy:', lrmodel.score(X_test, y_test))"
      ],
      "execution_count": 10,
      "outputs": []
    },
    {
      "cell_type": "code",
      "metadata": {
        "id": "p48pugD-Rzos",
        "colab_type": "code",
        "colab": {}
      },
      "source": [
        "# dfcat = df.filter(['main_category', 'project_success', 'goal'])\n"
      ],
      "execution_count": 11,
      "outputs": []
    },
    {
      "cell_type": "code",
      "metadata": {
        "id": "SRpqQNIWkNLL",
        "colab_type": "code",
        "colab": {}
      },
      "source": [
        "# suc_filt = [1]\n",
        "# dfcat= dfcat[dfcat['project_success'].isin(suc_filt)]\n",
        "# dfcat['project_success'] = dfcat['project_success'].replace({1: 'successful'})"
      ],
      "execution_count": 12,
      "outputs": []
    },
    {
      "cell_type": "code",
      "metadata": {
        "id": "FXDFhRIKkm4H",
        "colab_type": "code",
        "colab": {
          "base_uri": "https://localhost:8080/",
          "height": 284
        },
        "outputId": "dc758890-21b9-498f-b004-339a95d53de3"
      },
      "source": [
        "# dfcat.describe()"
      ],
      "execution_count": 35,
      "outputs": [
        {
          "output_type": "execute_result",
          "data": {
            "text/html": [
              "<div>\n",
              "<style scoped>\n",
              "    .dataframe tbody tr th:only-of-type {\n",
              "        vertical-align: middle;\n",
              "    }\n",
              "\n",
              "    .dataframe tbody tr th {\n",
              "        vertical-align: top;\n",
              "    }\n",
              "\n",
              "    .dataframe thead th {\n",
              "        text-align: right;\n",
              "    }\n",
              "</style>\n",
              "<table border=\"1\" class=\"dataframe\">\n",
              "  <thead>\n",
              "    <tr style=\"text-align: right;\">\n",
              "      <th></th>\n",
              "      <th>goal</th>\n",
              "    </tr>\n",
              "  </thead>\n",
              "  <tbody>\n",
              "    <tr>\n",
              "      <th>count</th>\n",
              "      <td>395.000000</td>\n",
              "    </tr>\n",
              "    <tr>\n",
              "      <th>mean</th>\n",
              "      <td>11485.037975</td>\n",
              "    </tr>\n",
              "    <tr>\n",
              "      <th>std</th>\n",
              "      <td>35528.057038</td>\n",
              "    </tr>\n",
              "    <tr>\n",
              "      <th>min</th>\n",
              "      <td>1.000000</td>\n",
              "    </tr>\n",
              "    <tr>\n",
              "      <th>25%</th>\n",
              "      <td>1425.000000</td>\n",
              "    </tr>\n",
              "    <tr>\n",
              "      <th>50%</th>\n",
              "      <td>4000.000000</td>\n",
              "    </tr>\n",
              "    <tr>\n",
              "      <th>75%</th>\n",
              "      <td>10000.000000</td>\n",
              "    </tr>\n",
              "    <tr>\n",
              "      <th>max</th>\n",
              "      <td>600000.000000</td>\n",
              "    </tr>\n",
              "  </tbody>\n",
              "</table>\n",
              "</div>"
            ],
            "text/plain": [
              "                goal\n",
              "count     395.000000\n",
              "mean    11485.037975\n",
              "std     35528.057038\n",
              "min         1.000000\n",
              "25%      1425.000000\n",
              "50%      4000.000000\n",
              "75%     10000.000000\n",
              "max    600000.000000"
            ]
          },
          "metadata": {
            "tags": []
          },
          "execution_count": 35
        }
      ]
    },
    {
      "cell_type": "code",
      "metadata": {
        "id": "o4EMyEcDRxTl",
        "colab_type": "code",
        "colab": {
          "base_uri": "https://localhost:8080/",
          "height": 286
        },
        "outputId": "4b282c6f-d763-488d-904a-6f7288c3e49b"
      },
      "source": [
        "# dfcat['main_category'].value_counts()"
      ],
      "execution_count": 14,
      "outputs": [
        {
          "output_type": "execute_result",
          "data": {
            "text/plain": [
              "2     69\n",
              "3     68\n",
              "11    42\n",
              "7     34\n",
              "5     30\n",
              "1     27\n",
              "13    23\n",
              "4     23\n",
              "9     18\n",
              "10    17\n",
              "8     15\n",
              "12    12\n",
              "14     9\n",
              "15     4\n",
              "6      4\n",
              "Name: main_category, dtype: int64"
            ]
          },
          "metadata": {
            "tags": []
          },
          "execution_count": 14
        }
      ]
    },
    {
      "cell_type": "code",
      "metadata": {
        "id": "WcOKnjN6Tfa2",
        "colab_type": "code",
        "colab": {}
      },
      "source": [
        "# dfcat['main_category'] = dfcat['main_category'].replace(1, 'Publishing')\n",
        "# dfcat['main_category'] = dfcat['main_category'].replace(2, 'Film & Video')\n",
        "# dfcat['main_category'] = dfcat['main_category'].replace(3, 'Music')\n",
        "# dfcat['main_category'] = dfcat['main_category'].replace(4, 'Food')\n",
        "# dfcat['main_category'] = dfcat['main_category'].replace(5, 'Design')\n",
        "# dfcat['main_category'] = dfcat['main_category'].replace(6, 'Crafts')\n",
        "# dfcat['main_category'] = dfcat['main_category'].replace(7, 'Games')\n",
        "# dfcat['main_category'] = dfcat['main_category'].replace(8, 'Comics')\n",
        "# dfcat['main_category'] = dfcat['main_category'].replace(9, 'Fashion')\n",
        "# dfcat['main_category'] = dfcat['main_category'].replace(10, 'Theater')\n",
        "# dfcat['main_category'] = dfcat['main_category'].replace(11, 'Art')\n",
        "# dfcat['main_category'] = dfcat['main_category'].replace(12, 'Photography')\n",
        "# dfcat['main_category'] = dfcat['main_category'].replace(13, 'Technology')\n",
        "# dfcat['main_category'] = dfcat['main_category'].replace(14, 'Dance')\n",
        "# dfcat['main_category'] = dfcat['main_category'].replace(15, 'Journalism')"
      ],
      "execution_count": 15,
      "outputs": []
    },
    {
      "cell_type": "code",
      "metadata": {
        "id": "bZtbNotRnoxA",
        "colab_type": "code",
        "colab": {}
      },
      "source": [
        "# import plotly.graph_objects as go"
      ],
      "execution_count": 16,
      "outputs": []
    },
    {
      "cell_type": "code",
      "metadata": {
        "id": "nEq-Ydnr2Sx5",
        "colab_type": "code",
        "colab": {
          "base_uri": "https://localhost:8080/",
          "height": 542
        },
        "outputId": "77cea64c-00ad-4f62-e1a9-b14c083a8a67"
      },
      "source": [
        "# import plotly.express as px\n",
        "\n",
        "\n",
        "\n",
        "# fig = px.bar(dfcat, x=\"main_category\", y=\"goal\", color=\"main_category\", title=\"Long-Form Input\")\n",
        "# fig.show()"
      ],
      "execution_count": 17,
      "outputs": [
        {
          "output_type": "display_data",
          "data": {
            "text/html": [
              "<html>\n",
              "<head><meta charset=\"utf-8\" /></head>\n",
              "<body>\n",
              "    <div>            <script src=\"https://cdnjs.cloudflare.com/ajax/libs/mathjax/2.7.5/MathJax.js?config=TeX-AMS-MML_SVG\"></script><script type=\"text/javascript\">if (window.MathJax) {MathJax.Hub.Config({SVG: {font: \"STIX-Web\"}});}</script>                <script type=\"text/javascript\">window.PlotlyConfig = {MathJaxConfig: 'local'};</script>\n",
              "        <script src=\"https://cdn.plot.ly/plotly-latest.min.js\"></script>                <div id=\"30d53500-cb18-4134-aa14-67ce53e3bac7\" class=\"plotly-graph-div\" style=\"height:525px; width:100%;\"></div>            <script type=\"text/javascript\">                                    window.PLOTLYENV=window.PLOTLYENV || {};                                    if (document.getElementById(\"30d53500-cb18-4134-aa14-67ce53e3bac7\")) {                    Plotly.newPlot(                        \"30d53500-cb18-4134-aa14-67ce53e3bac7\",                        [{\"alignmentgroup\": \"True\", \"hovertemplate\": \"main_category=%{x}<br>goal=%{y}<extra></extra>\", \"legendgroup\": \"Food\", \"marker\": {\"color\": \"#636efa\"}, \"name\": \"Food\", \"offsetgroup\": \"Food\", \"orientation\": \"v\", \"showlegend\": true, \"textposition\": \"auto\", \"type\": \"bar\", \"x\": [\"Food\", \"Food\", \"Food\", \"Food\", \"Food\", \"Food\", \"Food\", \"Food\", \"Food\", \"Food\", \"Food\", \"Food\", \"Food\", \"Food\", \"Food\", \"Food\", \"Food\", \"Food\", \"Food\", \"Food\", \"Food\", \"Food\", \"Food\"], \"xaxis\": \"x\", \"y\": [50000.0, 1000.0, 40000.0, 15000.0, 20000.0, 50000.0, 25000.0, 250.0, 25000.0, 15000.0, 2500.0, 5500.0, 15000.0, 2300.0, 10000.0, 100000.0, 8000.0, 10000.0, 10000.0, 30000.0, 1000.0, 28000.0, 10.0], \"yaxis\": \"y\"}, {\"alignmentgroup\": \"True\", \"hovertemplate\": \"main_category=%{x}<br>goal=%{y}<extra></extra>\", \"legendgroup\": \"Music\", \"marker\": {\"color\": \"#EF553B\"}, \"name\": \"Music\", \"offsetgroup\": \"Music\", \"orientation\": \"v\", \"showlegend\": true, \"textposition\": \"auto\", \"type\": \"bar\", \"x\": [\"Music\", \"Music\", \"Music\", \"Music\", \"Music\", \"Music\", \"Music\", \"Music\", \"Music\", \"Music\", \"Music\", \"Music\", \"Music\", \"Music\", \"Music\", \"Music\", \"Music\", \"Music\", \"Music\", \"Music\", \"Music\", \"Music\", \"Music\", \"Music\", \"Music\", \"Music\", \"Music\", \"Music\", \"Music\", \"Music\", \"Music\", \"Music\", \"Music\", \"Music\", \"Music\", \"Music\", \"Music\", \"Music\", \"Music\", \"Music\", \"Music\", \"Music\", \"Music\", \"Music\", \"Music\", \"Music\", \"Music\", \"Music\", \"Music\", \"Music\", \"Music\", \"Music\", \"Music\", \"Music\", \"Music\", \"Music\", \"Music\", \"Music\", \"Music\", \"Music\", \"Music\", \"Music\", \"Music\", \"Music\", \"Music\", \"Music\", \"Music\", \"Music\"], \"xaxis\": \"x\", \"y\": [12500.0, 250.0, 10000.0, 12000.0, 4000.0, 15000.0, 10000.0, 4000.0, 500.0, 10000.0, 200.0, 1000.0, 777.0, 2000.0, 4000.0, 15000.0, 10000.0, 10000.0, 7000.0, 2000.0, 1000.0, 7500.0, 800.0, 20.0, 8000.0, 2500.0, 2500.0, 3000.0, 5000.0, 1800.0, 1.0, 57000.0, 2000.0, 3000.0, 8000.0, 2500.0, 20000.0, 750.0, 1200.0, 1000.0, 4500.0, 3500.0, 10000.0, 1000.0, 1800.0, 5000.0, 2200.0, 5000.0, 250.0, 25.0, 5000.0, 500.0, 2500.0, 1000.0, 4000.0, 1.0, 6000.0, 850.0, 14000.0, 2100.0, 2000.0, 5000.0, 2000.0, 600.0, 3000.0, 1200.0, 2500.0, 3500.0], \"yaxis\": \"y\"}, {\"alignmentgroup\": \"True\", \"hovertemplate\": \"main_category=%{x}<br>goal=%{y}<extra></extra>\", \"legendgroup\": \"Fashion\", \"marker\": {\"color\": \"#00cc96\"}, \"name\": \"Fashion\", \"offsetgroup\": \"Fashion\", \"orientation\": \"v\", \"showlegend\": true, \"textposition\": \"auto\", \"type\": \"bar\", \"x\": [\"Fashion\", \"Fashion\", \"Fashion\", \"Fashion\", \"Fashion\", \"Fashion\", \"Fashion\", \"Fashion\", \"Fashion\", \"Fashion\", \"Fashion\", \"Fashion\", \"Fashion\", \"Fashion\", \"Fashion\", \"Fashion\", \"Fashion\", \"Fashion\"], \"xaxis\": \"x\", \"y\": [20000.0, 500.0, 5400.0, 1750.0, 2500.0, 36000.0, 3000.0, 3286.0, 2000.0, 1750.0, 1.0, 20000.0, 2000.0, 20000.0, 500.0, 20000.0, 20000.0, 200.0], \"yaxis\": \"y\"}, {\"alignmentgroup\": \"True\", \"hovertemplate\": \"main_category=%{x}<br>goal=%{y}<extra></extra>\", \"legendgroup\": \"Comics\", \"marker\": {\"color\": \"#ab63fa\"}, \"name\": \"Comics\", \"offsetgroup\": \"Comics\", \"orientation\": \"v\", \"showlegend\": true, \"textposition\": \"auto\", \"type\": \"bar\", \"x\": [\"Comics\", \"Comics\", \"Comics\", \"Comics\", \"Comics\", \"Comics\", \"Comics\", \"Comics\", \"Comics\", \"Comics\", \"Comics\", \"Comics\", \"Comics\", \"Comics\", \"Comics\"], \"xaxis\": \"x\", \"y\": [175.0, 100.0, 4000.0, 4450.0, 2000.0, 5150.0, 2500.0, 550.0, 200.0, 4000.0, 50.0, 1200.0, 1000.0, 9000.0, 1500.0], \"yaxis\": \"y\"}, {\"alignmentgroup\": \"True\", \"hovertemplate\": \"main_category=%{x}<br>goal=%{y}<extra></extra>\", \"legendgroup\": \"Film & Video\", \"marker\": {\"color\": \"#FFA15A\"}, \"name\": \"Film & Video\", \"offsetgroup\": \"Film & Video\", \"orientation\": \"v\", \"showlegend\": true, \"textposition\": \"auto\", \"type\": \"bar\", \"x\": [\"Film & Video\", \"Film & Video\", \"Film & Video\", \"Film & Video\", \"Film & Video\", \"Film & Video\", \"Film & Video\", \"Film & Video\", \"Film & Video\", \"Film & Video\", \"Film & Video\", \"Film & Video\", \"Film & Video\", \"Film & Video\", \"Film & Video\", \"Film & Video\", \"Film & Video\", \"Film & Video\", \"Film & Video\", \"Film & Video\", \"Film & Video\", \"Film & Video\", \"Film & Video\", \"Film & Video\", \"Film & Video\", \"Film & Video\", \"Film & Video\", \"Film & Video\", \"Film & Video\", \"Film & Video\", \"Film & Video\", \"Film & Video\", \"Film & Video\", \"Film & Video\", \"Film & Video\", \"Film & Video\", \"Film & Video\", \"Film & Video\", \"Film & Video\", \"Film & Video\", \"Film & Video\", \"Film & Video\", \"Film & Video\", \"Film & Video\", \"Film & Video\", \"Film & Video\", \"Film & Video\", \"Film & Video\", \"Film & Video\", \"Film & Video\", \"Film & Video\", \"Film & Video\", \"Film & Video\", \"Film & Video\", \"Film & Video\", \"Film & Video\", \"Film & Video\", \"Film & Video\", \"Film & Video\", \"Film & Video\", \"Film & Video\", \"Film & Video\", \"Film & Video\", \"Film & Video\", \"Film & Video\", \"Film & Video\", \"Film & Video\", \"Film & Video\", \"Film & Video\"], \"xaxis\": \"x\", \"y\": [17757.0, 10000.0, 8000.0, 60000.0, 11000.0, 9500.0, 4000.0, 1500.0, 3000.0, 2000.0, 500.0, 5000.0, 750.0, 5000.0, 800.0, 1500.0, 20000.0, 400.0, 5500.0, 125.0, 3500.0, 2500.0, 370.0, 250.0, 7500.0, 15000.0, 50000.0, 800.0, 12500.0, 500.0, 25000.0, 750.0, 7500.0, 5500.0, 2500.0, 4000.0, 3250.0, 5000.0, 5500.0, 3000.0, 13000.0, 5000.0, 5000.0, 3000.0, 1400.0, 10000.0, 5000.0, 4000.0, 10000.0, 5000.0, 40000.0, 40000.0, 1000.0, 10000.0, 550.0, 2000.0, 2000.0, 30000.0, 6500.0, 10000.0, 1450.0, 10000.0, 15000.0, 1600.0, 1500.0, 5000.0, 5800.0, 10000.0, 5000.0], \"yaxis\": \"y\"}, {\"alignmentgroup\": \"True\", \"hovertemplate\": \"main_category=%{x}<br>goal=%{y}<extra></extra>\", \"legendgroup\": \"Design\", \"marker\": {\"color\": \"#19d3f3\"}, \"name\": \"Design\", \"offsetgroup\": \"Design\", \"orientation\": \"v\", \"showlegend\": true, \"textposition\": \"auto\", \"type\": \"bar\", \"x\": [\"Design\", \"Design\", \"Design\", \"Design\", \"Design\", \"Design\", \"Design\", \"Design\", \"Design\", \"Design\", \"Design\", \"Design\", \"Design\", \"Design\", \"Design\", \"Design\", \"Design\", \"Design\", \"Design\", \"Design\", \"Design\", \"Design\", \"Design\", \"Design\", \"Design\", \"Design\", \"Design\", \"Design\", \"Design\", \"Design\"], \"xaxis\": \"x\", \"y\": [1000.0, 2000.0, 80000.0, 5000.0, 35000.0, 15000.0, 150.0, 7500.0, 999.0, 7000.0, 18000.0, 20000.0, 500.0, 50000.0, 14000.0, 7500.0, 7770.0, 5000.0, 2000.0, 4040.0, 2000.0, 43000.0, 7000.0, 600000.0, 20000.0, 500.0, 10000.0, 100000.0, 40000.0, 1250.0], \"yaxis\": \"y\"}, {\"alignmentgroup\": \"True\", \"hovertemplate\": \"main_category=%{x}<br>goal=%{y}<extra></extra>\", \"legendgroup\": \"Photography\", \"marker\": {\"color\": \"#FF6692\"}, \"name\": \"Photography\", \"offsetgroup\": \"Photography\", \"orientation\": \"v\", \"showlegend\": true, \"textposition\": \"auto\", \"type\": \"bar\", \"x\": [\"Photography\", \"Photography\", \"Photography\", \"Photography\", \"Photography\", \"Photography\", \"Photography\", \"Photography\", \"Photography\", \"Photography\", \"Photography\", \"Photography\"], \"xaxis\": \"x\", \"y\": [15000.0, 4000.0, 6000.0, 18000.0, 10000.0, 2500.0, 2000.0, 1500.0, 700.0, 6000.0, 2000.0, 5000.0], \"yaxis\": \"y\"}, {\"alignmentgroup\": \"True\", \"hovertemplate\": \"main_category=%{x}<br>goal=%{y}<extra></extra>\", \"legendgroup\": \"Games\", \"marker\": {\"color\": \"#B6E880\"}, \"name\": \"Games\", \"offsetgroup\": \"Games\", \"orientation\": \"v\", \"showlegend\": true, \"textposition\": \"auto\", \"type\": \"bar\", \"x\": [\"Games\", \"Games\", \"Games\", \"Games\", \"Games\", \"Games\", \"Games\", \"Games\", \"Games\", \"Games\", \"Games\", \"Games\", \"Games\", \"Games\", \"Games\", \"Games\", \"Games\", \"Games\", \"Games\", \"Games\", \"Games\", \"Games\", \"Games\", \"Games\", \"Games\", \"Games\", \"Games\", \"Games\", \"Games\", \"Games\", \"Games\", \"Games\", \"Games\", \"Games\"], \"xaxis\": \"x\", \"y\": [3000.0, 25000.0, 19500.0, 2000.0, 200.0, 2500.0, 1500.0, 150.0, 750.0, 7000.0, 10000.0, 7500.0, 10200.0, 22500.0, 25000.0, 500.0, 89999.0, 20000.0, 2400.0, 1000.0, 15000.0, 13000.0, 27000.0, 20000.0, 60.0, 450.0, 10000.0, 1750.0, 15000.0, 100000.0, 12000.0, 6000.0, 1000.0, 7500.0], \"yaxis\": \"y\"}, {\"alignmentgroup\": \"True\", \"hovertemplate\": \"main_category=%{x}<br>goal=%{y}<extra></extra>\", \"legendgroup\": \"Theater\", \"marker\": {\"color\": \"#FF97FF\"}, \"name\": \"Theater\", \"offsetgroup\": \"Theater\", \"orientation\": \"v\", \"showlegend\": true, \"textposition\": \"auto\", \"type\": \"bar\", \"x\": [\"Theater\", \"Theater\", \"Theater\", \"Theater\", \"Theater\", \"Theater\", \"Theater\", \"Theater\", \"Theater\", \"Theater\", \"Theater\", \"Theater\", \"Theater\", \"Theater\", \"Theater\", \"Theater\", \"Theater\"], \"xaxis\": \"x\", \"y\": [15000.0, 7500.0, 2000.0, 7500.0, 4000.0, 9000.0, 1971.0, 900.0, 500.0, 250.0, 1100.0, 2500.0, 3000.0, 3600.0, 2700.0, 10000.0, 1000.0], \"yaxis\": \"y\"}, {\"alignmentgroup\": \"True\", \"hovertemplate\": \"main_category=%{x}<br>goal=%{y}<extra></extra>\", \"legendgroup\": \"Publishing\", \"marker\": {\"color\": \"#FECB52\"}, \"name\": \"Publishing\", \"offsetgroup\": \"Publishing\", \"orientation\": \"v\", \"showlegend\": true, \"textposition\": \"auto\", \"type\": \"bar\", \"x\": [\"Publishing\", \"Publishing\", \"Publishing\", \"Publishing\", \"Publishing\", \"Publishing\", \"Publishing\", \"Publishing\", \"Publishing\", \"Publishing\", \"Publishing\", \"Publishing\", \"Publishing\", \"Publishing\", \"Publishing\", \"Publishing\", \"Publishing\", \"Publishing\", \"Publishing\", \"Publishing\", \"Publishing\", \"Publishing\", \"Publishing\", \"Publishing\", \"Publishing\", \"Publishing\", \"Publishing\"], \"xaxis\": \"x\", \"y\": [1000.0, 1400.0, 1000.0, 7500.0, 5500.0, 19650.0, 1500.0, 350.0, 2200.0, 2000.0, 16000.0, 10080.0, 4399.0, 500.0, 55000.0, 4444.0, 4500.0, 3000.0, 3000.0, 4500.0, 1500.0, 10000.0, 2000.0, 2000.0, 800.0, 4000.0, 10000.0], \"yaxis\": \"y\"}, {\"alignmentgroup\": \"True\", \"hovertemplate\": \"main_category=%{x}<br>goal=%{y}<extra></extra>\", \"legendgroup\": \"Art\", \"marker\": {\"color\": \"#636efa\"}, \"name\": \"Art\", \"offsetgroup\": \"Art\", \"orientation\": \"v\", \"showlegend\": true, \"textposition\": \"auto\", \"type\": \"bar\", \"x\": [\"Art\", \"Art\", \"Art\", \"Art\", \"Art\", \"Art\", \"Art\", \"Art\", \"Art\", \"Art\", \"Art\", \"Art\", \"Art\", \"Art\", \"Art\", \"Art\", \"Art\", \"Art\", \"Art\", \"Art\", \"Art\", \"Art\", \"Art\", \"Art\", \"Art\", \"Art\", \"Art\", \"Art\", \"Art\", \"Art\", \"Art\", \"Art\", \"Art\", \"Art\", \"Art\", \"Art\", \"Art\", \"Art\", \"Art\", \"Art\", \"Art\", \"Art\"], \"xaxis\": \"x\", \"y\": [800.0, 650.0, 1500.0, 275.0, 3000.0, 3000.0, 1000.0, 10000.0, 550.0, 4500.0, 9900.0, 4800.0, 5500.0, 10900.0, 4000.0, 3000.0, 10000.0, 500.0, 2300.0, 10000.0, 100000.0, 1000.0, 1000.0, 750.0, 5000.0, 2750.0, 520.0, 15000.0, 2000.0, 600.0, 700.0, 1400.0, 3500.0, 250.0, 7500.0, 500.0, 1000.0, 1300.0, 999.0, 3000.0, 3000.0, 3000.0], \"yaxis\": \"y\"}, {\"alignmentgroup\": \"True\", \"hovertemplate\": \"main_category=%{x}<br>goal=%{y}<extra></extra>\", \"legendgroup\": \"Technology\", \"marker\": {\"color\": \"#EF553B\"}, \"name\": \"Technology\", \"offsetgroup\": \"Technology\", \"orientation\": \"v\", \"showlegend\": true, \"textposition\": \"auto\", \"type\": \"bar\", \"x\": [\"Technology\", \"Technology\", \"Technology\", \"Technology\", \"Technology\", \"Technology\", \"Technology\", \"Technology\", \"Technology\", \"Technology\", \"Technology\", \"Technology\", \"Technology\", \"Technology\", \"Technology\", \"Technology\", \"Technology\", \"Technology\", \"Technology\", \"Technology\", \"Technology\", \"Technology\", \"Technology\"], \"xaxis\": \"x\", \"y\": [250000.0, 40000.0, 55000.0, 5000.0, 5500.0, 25000.0, 10000.0, 10000.0, 25000.0, 1000.0, 25000.0, 8500.0, 30000.0, 20000.0, 9000.0, 2500.0, 5000.0, 19500.0, 20000.0, 25000.0, 30000.0, 72083.0, 25000.0], \"yaxis\": \"y\"}, {\"alignmentgroup\": \"True\", \"hovertemplate\": \"main_category=%{x}<br>goal=%{y}<extra></extra>\", \"legendgroup\": \"Dance\", \"marker\": {\"color\": \"#00cc96\"}, \"name\": \"Dance\", \"offsetgroup\": \"Dance\", \"orientation\": \"v\", \"showlegend\": true, \"textposition\": \"auto\", \"type\": \"bar\", \"x\": [\"Dance\", \"Dance\", \"Dance\", \"Dance\", \"Dance\", \"Dance\", \"Dance\", \"Dance\", \"Dance\"], \"xaxis\": \"x\", \"y\": [1200.0, 1500.0, 6000.0, 3500.0, 850.0, 5000.0, 14000.0, 2223.0, 25000.0], \"yaxis\": \"y\"}, {\"alignmentgroup\": \"True\", \"hovertemplate\": \"main_category=%{x}<br>goal=%{y}<extra></extra>\", \"legendgroup\": \"Crafts\", \"marker\": {\"color\": \"#ab63fa\"}, \"name\": \"Crafts\", \"offsetgroup\": \"Crafts\", \"orientation\": \"v\", \"showlegend\": true, \"textposition\": \"auto\", \"type\": \"bar\", \"x\": [\"Crafts\", \"Crafts\", \"Crafts\", \"Crafts\"], \"xaxis\": \"x\", \"y\": [250.0, 120.0, 3500.0, 10.0], \"yaxis\": \"y\"}, {\"alignmentgroup\": \"True\", \"hovertemplate\": \"main_category=%{x}<br>goal=%{y}<extra></extra>\", \"legendgroup\": \"Journalism\", \"marker\": {\"color\": \"#FFA15A\"}, \"name\": \"Journalism\", \"offsetgroup\": \"Journalism\", \"orientation\": \"v\", \"showlegend\": true, \"textposition\": \"auto\", \"type\": \"bar\", \"x\": [\"Journalism\", \"Journalism\", \"Journalism\", \"Journalism\"], \"xaxis\": \"x\", \"y\": [2500.0, 10000.0, 6000.0, 2000.0], \"yaxis\": \"y\"}],                        {\"barmode\": \"relative\", \"legend\": {\"title\": {\"text\": \"main_category\"}, \"tracegroupgap\": 0}, \"template\": {\"data\": {\"bar\": [{\"error_x\": {\"color\": \"#2a3f5f\"}, \"error_y\": {\"color\": \"#2a3f5f\"}, \"marker\": {\"line\": {\"color\": \"#E5ECF6\", \"width\": 0.5}}, \"type\": \"bar\"}], \"barpolar\": [{\"marker\": {\"line\": {\"color\": \"#E5ECF6\", \"width\": 0.5}}, \"type\": \"barpolar\"}], \"carpet\": [{\"aaxis\": {\"endlinecolor\": \"#2a3f5f\", \"gridcolor\": \"white\", \"linecolor\": \"white\", \"minorgridcolor\": \"white\", \"startlinecolor\": \"#2a3f5f\"}, \"baxis\": {\"endlinecolor\": \"#2a3f5f\", \"gridcolor\": \"white\", \"linecolor\": \"white\", \"minorgridcolor\": \"white\", \"startlinecolor\": \"#2a3f5f\"}, \"type\": \"carpet\"}], \"choropleth\": [{\"colorbar\": {\"outlinewidth\": 0, \"ticks\": \"\"}, \"type\": \"choropleth\"}], \"contour\": [{\"colorbar\": {\"outlinewidth\": 0, \"ticks\": \"\"}, \"colorscale\": [[0.0, \"#0d0887\"], [0.1111111111111111, \"#46039f\"], [0.2222222222222222, \"#7201a8\"], [0.3333333333333333, \"#9c179e\"], [0.4444444444444444, \"#bd3786\"], [0.5555555555555556, \"#d8576b\"], [0.6666666666666666, \"#ed7953\"], [0.7777777777777778, \"#fb9f3a\"], [0.8888888888888888, \"#fdca26\"], [1.0, \"#f0f921\"]], \"type\": \"contour\"}], \"contourcarpet\": [{\"colorbar\": {\"outlinewidth\": 0, \"ticks\": \"\"}, \"type\": \"contourcarpet\"}], \"heatmap\": [{\"colorbar\": {\"outlinewidth\": 0, \"ticks\": \"\"}, \"colorscale\": [[0.0, \"#0d0887\"], [0.1111111111111111, \"#46039f\"], [0.2222222222222222, \"#7201a8\"], [0.3333333333333333, \"#9c179e\"], [0.4444444444444444, \"#bd3786\"], [0.5555555555555556, \"#d8576b\"], [0.6666666666666666, \"#ed7953\"], [0.7777777777777778, \"#fb9f3a\"], [0.8888888888888888, \"#fdca26\"], [1.0, \"#f0f921\"]], \"type\": \"heatmap\"}], \"heatmapgl\": [{\"colorbar\": {\"outlinewidth\": 0, \"ticks\": \"\"}, \"colorscale\": [[0.0, \"#0d0887\"], [0.1111111111111111, \"#46039f\"], [0.2222222222222222, \"#7201a8\"], [0.3333333333333333, \"#9c179e\"], [0.4444444444444444, \"#bd3786\"], [0.5555555555555556, \"#d8576b\"], [0.6666666666666666, \"#ed7953\"], [0.7777777777777778, \"#fb9f3a\"], [0.8888888888888888, \"#fdca26\"], [1.0, \"#f0f921\"]], \"type\": \"heatmapgl\"}], \"histogram\": [{\"marker\": {\"colorbar\": {\"outlinewidth\": 0, \"ticks\": \"\"}}, \"type\": \"histogram\"}], \"histogram2d\": [{\"colorbar\": {\"outlinewidth\": 0, \"ticks\": \"\"}, \"colorscale\": [[0.0, \"#0d0887\"], [0.1111111111111111, \"#46039f\"], [0.2222222222222222, \"#7201a8\"], [0.3333333333333333, \"#9c179e\"], [0.4444444444444444, \"#bd3786\"], [0.5555555555555556, \"#d8576b\"], [0.6666666666666666, \"#ed7953\"], [0.7777777777777778, \"#fb9f3a\"], [0.8888888888888888, \"#fdca26\"], [1.0, \"#f0f921\"]], \"type\": \"histogram2d\"}], \"histogram2dcontour\": [{\"colorbar\": {\"outlinewidth\": 0, \"ticks\": \"\"}, \"colorscale\": [[0.0, \"#0d0887\"], [0.1111111111111111, \"#46039f\"], [0.2222222222222222, \"#7201a8\"], [0.3333333333333333, \"#9c179e\"], [0.4444444444444444, \"#bd3786\"], [0.5555555555555556, \"#d8576b\"], [0.6666666666666666, \"#ed7953\"], [0.7777777777777778, \"#fb9f3a\"], [0.8888888888888888, \"#fdca26\"], [1.0, \"#f0f921\"]], \"type\": \"histogram2dcontour\"}], \"mesh3d\": [{\"colorbar\": {\"outlinewidth\": 0, \"ticks\": \"\"}, \"type\": \"mesh3d\"}], \"parcoords\": [{\"line\": {\"colorbar\": {\"outlinewidth\": 0, \"ticks\": \"\"}}, \"type\": \"parcoords\"}], \"pie\": [{\"automargin\": true, \"type\": \"pie\"}], \"scatter\": [{\"marker\": {\"colorbar\": {\"outlinewidth\": 0, \"ticks\": \"\"}}, \"type\": \"scatter\"}], \"scatter3d\": [{\"line\": {\"colorbar\": {\"outlinewidth\": 0, \"ticks\": \"\"}}, \"marker\": {\"colorbar\": {\"outlinewidth\": 0, \"ticks\": \"\"}}, \"type\": \"scatter3d\"}], \"scattercarpet\": [{\"marker\": {\"colorbar\": {\"outlinewidth\": 0, \"ticks\": \"\"}}, \"type\": \"scattercarpet\"}], \"scattergeo\": [{\"marker\": {\"colorbar\": {\"outlinewidth\": 0, \"ticks\": \"\"}}, \"type\": \"scattergeo\"}], \"scattergl\": [{\"marker\": {\"colorbar\": {\"outlinewidth\": 0, \"ticks\": \"\"}}, \"type\": \"scattergl\"}], \"scattermapbox\": [{\"marker\": {\"colorbar\": {\"outlinewidth\": 0, \"ticks\": \"\"}}, \"type\": \"scattermapbox\"}], \"scatterpolar\": [{\"marker\": {\"colorbar\": {\"outlinewidth\": 0, \"ticks\": \"\"}}, \"type\": \"scatterpolar\"}], \"scatterpolargl\": [{\"marker\": {\"colorbar\": {\"outlinewidth\": 0, \"ticks\": \"\"}}, \"type\": \"scatterpolargl\"}], \"scatterternary\": [{\"marker\": {\"colorbar\": {\"outlinewidth\": 0, \"ticks\": \"\"}}, \"type\": \"scatterternary\"}], \"surface\": [{\"colorbar\": {\"outlinewidth\": 0, \"ticks\": \"\"}, \"colorscale\": [[0.0, \"#0d0887\"], [0.1111111111111111, \"#46039f\"], [0.2222222222222222, \"#7201a8\"], [0.3333333333333333, \"#9c179e\"], [0.4444444444444444, \"#bd3786\"], [0.5555555555555556, \"#d8576b\"], [0.6666666666666666, \"#ed7953\"], [0.7777777777777778, \"#fb9f3a\"], [0.8888888888888888, \"#fdca26\"], [1.0, \"#f0f921\"]], \"type\": \"surface\"}], \"table\": [{\"cells\": {\"fill\": {\"color\": \"#EBF0F8\"}, \"line\": {\"color\": \"white\"}}, \"header\": {\"fill\": {\"color\": \"#C8D4E3\"}, \"line\": {\"color\": \"white\"}}, \"type\": \"table\"}]}, \"layout\": {\"annotationdefaults\": {\"arrowcolor\": \"#2a3f5f\", \"arrowhead\": 0, \"arrowwidth\": 1}, \"coloraxis\": {\"colorbar\": {\"outlinewidth\": 0, \"ticks\": \"\"}}, \"colorscale\": {\"diverging\": [[0, \"#8e0152\"], [0.1, \"#c51b7d\"], [0.2, \"#de77ae\"], [0.3, \"#f1b6da\"], [0.4, \"#fde0ef\"], [0.5, \"#f7f7f7\"], [0.6, \"#e6f5d0\"], [0.7, \"#b8e186\"], [0.8, \"#7fbc41\"], [0.9, \"#4d9221\"], [1, \"#276419\"]], \"sequential\": [[0.0, \"#0d0887\"], [0.1111111111111111, \"#46039f\"], [0.2222222222222222, \"#7201a8\"], [0.3333333333333333, \"#9c179e\"], [0.4444444444444444, \"#bd3786\"], [0.5555555555555556, \"#d8576b\"], [0.6666666666666666, \"#ed7953\"], [0.7777777777777778, \"#fb9f3a\"], [0.8888888888888888, \"#fdca26\"], [1.0, \"#f0f921\"]], \"sequentialminus\": [[0.0, \"#0d0887\"], [0.1111111111111111, \"#46039f\"], [0.2222222222222222, \"#7201a8\"], [0.3333333333333333, \"#9c179e\"], [0.4444444444444444, \"#bd3786\"], [0.5555555555555556, \"#d8576b\"], [0.6666666666666666, \"#ed7953\"], [0.7777777777777778, \"#fb9f3a\"], [0.8888888888888888, \"#fdca26\"], [1.0, \"#f0f921\"]]}, \"colorway\": [\"#636efa\", \"#EF553B\", \"#00cc96\", \"#ab63fa\", \"#FFA15A\", \"#19d3f3\", \"#FF6692\", \"#B6E880\", \"#FF97FF\", \"#FECB52\"], \"font\": {\"color\": \"#2a3f5f\"}, \"geo\": {\"bgcolor\": \"white\", \"lakecolor\": \"white\", \"landcolor\": \"#E5ECF6\", \"showlakes\": true, \"showland\": true, \"subunitcolor\": \"white\"}, \"hoverlabel\": {\"align\": \"left\"}, \"hovermode\": \"closest\", \"mapbox\": {\"style\": \"light\"}, \"paper_bgcolor\": \"white\", \"plot_bgcolor\": \"#E5ECF6\", \"polar\": {\"angularaxis\": {\"gridcolor\": \"white\", \"linecolor\": \"white\", \"ticks\": \"\"}, \"bgcolor\": \"#E5ECF6\", \"radialaxis\": {\"gridcolor\": \"white\", \"linecolor\": \"white\", \"ticks\": \"\"}}, \"scene\": {\"xaxis\": {\"backgroundcolor\": \"#E5ECF6\", \"gridcolor\": \"white\", \"gridwidth\": 2, \"linecolor\": \"white\", \"showbackground\": true, \"ticks\": \"\", \"zerolinecolor\": \"white\"}, \"yaxis\": {\"backgroundcolor\": \"#E5ECF6\", \"gridcolor\": \"white\", \"gridwidth\": 2, \"linecolor\": \"white\", \"showbackground\": true, \"ticks\": \"\", \"zerolinecolor\": \"white\"}, \"zaxis\": {\"backgroundcolor\": \"#E5ECF6\", \"gridcolor\": \"white\", \"gridwidth\": 2, \"linecolor\": \"white\", \"showbackground\": true, \"ticks\": \"\", \"zerolinecolor\": \"white\"}}, \"shapedefaults\": {\"line\": {\"color\": \"#2a3f5f\"}}, \"ternary\": {\"aaxis\": {\"gridcolor\": \"white\", \"linecolor\": \"white\", \"ticks\": \"\"}, \"baxis\": {\"gridcolor\": \"white\", \"linecolor\": \"white\", \"ticks\": \"\"}, \"bgcolor\": \"#E5ECF6\", \"caxis\": {\"gridcolor\": \"white\", \"linecolor\": \"white\", \"ticks\": \"\"}}, \"title\": {\"x\": 0.05}, \"xaxis\": {\"automargin\": true, \"gridcolor\": \"white\", \"linecolor\": \"white\", \"ticks\": \"\", \"title\": {\"standoff\": 15}, \"zerolinecolor\": \"white\", \"zerolinewidth\": 2}, \"yaxis\": {\"automargin\": true, \"gridcolor\": \"white\", \"linecolor\": \"white\", \"ticks\": \"\", \"title\": {\"standoff\": 15}, \"zerolinecolor\": \"white\", \"zerolinewidth\": 2}}}, \"title\": {\"text\": \"Long-Form Input\"}, \"xaxis\": {\"anchor\": \"y\", \"categoryarray\": [\"Food\", \"Music\", \"Fashion\", \"Comics\", \"Film & Video\", \"Design\", \"Photography\", \"Games\", \"Theater\", \"Publishing\", \"Art\", \"Technology\", \"Dance\", \"Crafts\", \"Journalism\"], \"categoryorder\": \"array\", \"domain\": [0.0, 1.0], \"title\": {\"text\": \"main_category\"}}, \"yaxis\": {\"anchor\": \"x\", \"domain\": [0.0, 1.0], \"title\": {\"text\": \"goal\"}}},                        {\"responsive\": true}                    ).then(function(){\n",
              "                            \n",
              "var gd = document.getElementById('30d53500-cb18-4134-aa14-67ce53e3bac7');\n",
              "var x = new MutationObserver(function (mutations, observer) {{\n",
              "        var display = window.getComputedStyle(gd).display;\n",
              "        if (!display || display === 'none') {{\n",
              "            console.log([gd, 'removed!']);\n",
              "            Plotly.purge(gd);\n",
              "            observer.disconnect();\n",
              "        }}\n",
              "}});\n",
              "\n",
              "// Listen for the removal of the full notebook cells\n",
              "var notebookContainer = gd.closest('#notebook-container');\n",
              "if (notebookContainer) {{\n",
              "    x.observe(notebookContainer, {childList: true});\n",
              "}}\n",
              "\n",
              "// Listen for the clearing of the current output cell\n",
              "var outputEl = gd.closest('.output');\n",
              "if (outputEl) {{\n",
              "    x.observe(outputEl, {childList: true});\n",
              "}}\n",
              "\n",
              "                        })                };                            </script>        </div>\n",
              "</body>\n",
              "</html>"
            ]
          },
          "metadata": {
            "tags": []
          }
        }
      ]
    },
    {
      "cell_type": "code",
      "metadata": {
        "id": "DEnJAN5ZI1iS",
        "colab_type": "code",
        "colab": {
          "base_uri": "https://localhost:8080/",
          "height": 67
        },
        "outputId": "4ad6bb39-b17f-4fa4-f77f-a9652adb2cdb"
      },
      "source": [
        "# !pip install --upgrade plotly"
      ],
      "execution_count": 18,
      "outputs": [
        {
          "output_type": "stream",
          "text": [
            "Requirement already up-to-date: plotly in /usr/local/lib/python3.6/dist-packages (4.10.0)\n",
            "Requirement already satisfied, skipping upgrade: retrying>=1.3.3 in /usr/local/lib/python3.6/dist-packages (from plotly) (1.3.3)\n",
            "Requirement already satisfied, skipping upgrade: six in /usr/local/lib/python3.6/dist-packages (from plotly) (1.15.0)\n"
          ],
          "name": "stdout"
        }
      ]
    },
    {
      "cell_type": "code",
      "metadata": {
        "id": "WI-4GRX_2aZp",
        "colab_type": "code",
        "colab": {
          "base_uri": "https://localhost:8080/",
          "height": 542
        },
        "outputId": "e65caa96-2a6b-44c8-fa13-140da28748d3"
      },
      "source": [
        "# import plotly.express as px\n",
        "# df = dfcat\n",
        "# fig = px.bar(df, x=\"main_category\", y=\"goal\", color='main_category')\n",
        "# fig.show()"
      ],
      "execution_count": 19,
      "outputs": [
        {
          "output_type": "display_data",
          "data": {
            "text/html": [
              "<html>\n",
              "<head><meta charset=\"utf-8\" /></head>\n",
              "<body>\n",
              "    <div>            <script src=\"https://cdnjs.cloudflare.com/ajax/libs/mathjax/2.7.5/MathJax.js?config=TeX-AMS-MML_SVG\"></script><script type=\"text/javascript\">if (window.MathJax) {MathJax.Hub.Config({SVG: {font: \"STIX-Web\"}});}</script>                <script type=\"text/javascript\">window.PlotlyConfig = {MathJaxConfig: 'local'};</script>\n",
              "        <script src=\"https://cdn.plot.ly/plotly-latest.min.js\"></script>                <div id=\"0dbe808e-a75e-4250-9de9-ecb603f24ced\" class=\"plotly-graph-div\" style=\"height:525px; width:100%;\"></div>            <script type=\"text/javascript\">                                    window.PLOTLYENV=window.PLOTLYENV || {};                                    if (document.getElementById(\"0dbe808e-a75e-4250-9de9-ecb603f24ced\")) {                    Plotly.newPlot(                        \"0dbe808e-a75e-4250-9de9-ecb603f24ced\",                        [{\"alignmentgroup\": \"True\", \"hovertemplate\": \"main_category=%{x}<br>goal=%{y}<extra></extra>\", \"legendgroup\": \"Food\", \"marker\": {\"color\": \"#636efa\"}, \"name\": \"Food\", \"offsetgroup\": \"Food\", \"orientation\": \"v\", \"showlegend\": true, \"textposition\": \"auto\", \"type\": \"bar\", \"x\": [\"Food\", \"Food\", \"Food\", \"Food\", \"Food\", \"Food\", \"Food\", \"Food\", \"Food\", \"Food\", \"Food\", \"Food\", \"Food\", \"Food\", \"Food\", \"Food\", \"Food\", \"Food\", \"Food\", \"Food\", \"Food\", \"Food\", \"Food\"], \"xaxis\": \"x\", \"y\": [50000.0, 1000.0, 40000.0, 15000.0, 20000.0, 50000.0, 25000.0, 250.0, 25000.0, 15000.0, 2500.0, 5500.0, 15000.0, 2300.0, 10000.0, 100000.0, 8000.0, 10000.0, 10000.0, 30000.0, 1000.0, 28000.0, 10.0], \"yaxis\": \"y\"}, {\"alignmentgroup\": \"True\", \"hovertemplate\": \"main_category=%{x}<br>goal=%{y}<extra></extra>\", \"legendgroup\": \"Music\", \"marker\": {\"color\": \"#EF553B\"}, \"name\": \"Music\", \"offsetgroup\": \"Music\", \"orientation\": \"v\", \"showlegend\": true, \"textposition\": \"auto\", \"type\": \"bar\", \"x\": [\"Music\", \"Music\", \"Music\", \"Music\", \"Music\", \"Music\", \"Music\", \"Music\", \"Music\", \"Music\", \"Music\", \"Music\", \"Music\", \"Music\", \"Music\", \"Music\", \"Music\", \"Music\", \"Music\", \"Music\", \"Music\", \"Music\", \"Music\", \"Music\", \"Music\", \"Music\", \"Music\", \"Music\", \"Music\", \"Music\", \"Music\", \"Music\", \"Music\", \"Music\", \"Music\", \"Music\", \"Music\", \"Music\", \"Music\", \"Music\", \"Music\", \"Music\", \"Music\", \"Music\", \"Music\", \"Music\", \"Music\", \"Music\", \"Music\", \"Music\", \"Music\", \"Music\", \"Music\", \"Music\", \"Music\", \"Music\", \"Music\", \"Music\", \"Music\", \"Music\", \"Music\", \"Music\", \"Music\", \"Music\", \"Music\", \"Music\", \"Music\", \"Music\"], \"xaxis\": \"x\", \"y\": [12500.0, 250.0, 10000.0, 12000.0, 4000.0, 15000.0, 10000.0, 4000.0, 500.0, 10000.0, 200.0, 1000.0, 777.0, 2000.0, 4000.0, 15000.0, 10000.0, 10000.0, 7000.0, 2000.0, 1000.0, 7500.0, 800.0, 20.0, 8000.0, 2500.0, 2500.0, 3000.0, 5000.0, 1800.0, 1.0, 57000.0, 2000.0, 3000.0, 8000.0, 2500.0, 20000.0, 750.0, 1200.0, 1000.0, 4500.0, 3500.0, 10000.0, 1000.0, 1800.0, 5000.0, 2200.0, 5000.0, 250.0, 25.0, 5000.0, 500.0, 2500.0, 1000.0, 4000.0, 1.0, 6000.0, 850.0, 14000.0, 2100.0, 2000.0, 5000.0, 2000.0, 600.0, 3000.0, 1200.0, 2500.0, 3500.0], \"yaxis\": \"y\"}, {\"alignmentgroup\": \"True\", \"hovertemplate\": \"main_category=%{x}<br>goal=%{y}<extra></extra>\", \"legendgroup\": \"Fashion\", \"marker\": {\"color\": \"#00cc96\"}, \"name\": \"Fashion\", \"offsetgroup\": \"Fashion\", \"orientation\": \"v\", \"showlegend\": true, \"textposition\": \"auto\", \"type\": \"bar\", \"x\": [\"Fashion\", \"Fashion\", \"Fashion\", \"Fashion\", \"Fashion\", \"Fashion\", \"Fashion\", \"Fashion\", \"Fashion\", \"Fashion\", \"Fashion\", \"Fashion\", \"Fashion\", \"Fashion\", \"Fashion\", \"Fashion\", \"Fashion\", \"Fashion\"], \"xaxis\": \"x\", \"y\": [20000.0, 500.0, 5400.0, 1750.0, 2500.0, 36000.0, 3000.0, 3286.0, 2000.0, 1750.0, 1.0, 20000.0, 2000.0, 20000.0, 500.0, 20000.0, 20000.0, 200.0], \"yaxis\": \"y\"}, {\"alignmentgroup\": \"True\", \"hovertemplate\": \"main_category=%{x}<br>goal=%{y}<extra></extra>\", \"legendgroup\": \"Comics\", \"marker\": {\"color\": \"#ab63fa\"}, \"name\": \"Comics\", \"offsetgroup\": \"Comics\", \"orientation\": \"v\", \"showlegend\": true, \"textposition\": \"auto\", \"type\": \"bar\", \"x\": [\"Comics\", \"Comics\", \"Comics\", \"Comics\", \"Comics\", \"Comics\", \"Comics\", \"Comics\", \"Comics\", \"Comics\", \"Comics\", \"Comics\", \"Comics\", \"Comics\", \"Comics\"], \"xaxis\": \"x\", \"y\": [175.0, 100.0, 4000.0, 4450.0, 2000.0, 5150.0, 2500.0, 550.0, 200.0, 4000.0, 50.0, 1200.0, 1000.0, 9000.0, 1500.0], \"yaxis\": \"y\"}, {\"alignmentgroup\": \"True\", \"hovertemplate\": \"main_category=%{x}<br>goal=%{y}<extra></extra>\", \"legendgroup\": \"Film & Video\", \"marker\": {\"color\": \"#FFA15A\"}, \"name\": \"Film & Video\", \"offsetgroup\": \"Film & Video\", \"orientation\": \"v\", \"showlegend\": true, \"textposition\": \"auto\", \"type\": \"bar\", \"x\": [\"Film & Video\", \"Film & Video\", \"Film & Video\", \"Film & Video\", \"Film & Video\", \"Film & Video\", \"Film & Video\", \"Film & Video\", \"Film & Video\", \"Film & Video\", \"Film & Video\", \"Film & Video\", \"Film & Video\", \"Film & Video\", \"Film & Video\", \"Film & Video\", \"Film & Video\", \"Film & Video\", \"Film & Video\", \"Film & Video\", \"Film & Video\", \"Film & Video\", \"Film & Video\", \"Film & Video\", \"Film & Video\", \"Film & Video\", \"Film & Video\", \"Film & Video\", \"Film & Video\", \"Film & Video\", \"Film & Video\", \"Film & Video\", \"Film & Video\", \"Film & Video\", \"Film & Video\", \"Film & Video\", \"Film & Video\", \"Film & Video\", \"Film & Video\", \"Film & Video\", \"Film & Video\", \"Film & Video\", \"Film & Video\", \"Film & Video\", \"Film & Video\", \"Film & Video\", \"Film & Video\", \"Film & Video\", \"Film & Video\", \"Film & Video\", \"Film & Video\", \"Film & Video\", \"Film & Video\", \"Film & Video\", \"Film & Video\", \"Film & Video\", \"Film & Video\", \"Film & Video\", \"Film & Video\", \"Film & Video\", \"Film & Video\", \"Film & Video\", \"Film & Video\", \"Film & Video\", \"Film & Video\", \"Film & Video\", \"Film & Video\", \"Film & Video\", \"Film & Video\"], \"xaxis\": \"x\", \"y\": [17757.0, 10000.0, 8000.0, 60000.0, 11000.0, 9500.0, 4000.0, 1500.0, 3000.0, 2000.0, 500.0, 5000.0, 750.0, 5000.0, 800.0, 1500.0, 20000.0, 400.0, 5500.0, 125.0, 3500.0, 2500.0, 370.0, 250.0, 7500.0, 15000.0, 50000.0, 800.0, 12500.0, 500.0, 25000.0, 750.0, 7500.0, 5500.0, 2500.0, 4000.0, 3250.0, 5000.0, 5500.0, 3000.0, 13000.0, 5000.0, 5000.0, 3000.0, 1400.0, 10000.0, 5000.0, 4000.0, 10000.0, 5000.0, 40000.0, 40000.0, 1000.0, 10000.0, 550.0, 2000.0, 2000.0, 30000.0, 6500.0, 10000.0, 1450.0, 10000.0, 15000.0, 1600.0, 1500.0, 5000.0, 5800.0, 10000.0, 5000.0], \"yaxis\": \"y\"}, {\"alignmentgroup\": \"True\", \"hovertemplate\": \"main_category=%{x}<br>goal=%{y}<extra></extra>\", \"legendgroup\": \"Design\", \"marker\": {\"color\": \"#19d3f3\"}, \"name\": \"Design\", \"offsetgroup\": \"Design\", \"orientation\": \"v\", \"showlegend\": true, \"textposition\": \"auto\", \"type\": \"bar\", \"x\": [\"Design\", \"Design\", \"Design\", \"Design\", \"Design\", \"Design\", \"Design\", \"Design\", \"Design\", \"Design\", \"Design\", \"Design\", \"Design\", \"Design\", \"Design\", \"Design\", \"Design\", \"Design\", \"Design\", \"Design\", \"Design\", \"Design\", \"Design\", \"Design\", \"Design\", \"Design\", \"Design\", \"Design\", \"Design\", \"Design\"], \"xaxis\": \"x\", \"y\": [1000.0, 2000.0, 80000.0, 5000.0, 35000.0, 15000.0, 150.0, 7500.0, 999.0, 7000.0, 18000.0, 20000.0, 500.0, 50000.0, 14000.0, 7500.0, 7770.0, 5000.0, 2000.0, 4040.0, 2000.0, 43000.0, 7000.0, 600000.0, 20000.0, 500.0, 10000.0, 100000.0, 40000.0, 1250.0], \"yaxis\": \"y\"}, {\"alignmentgroup\": \"True\", \"hovertemplate\": \"main_category=%{x}<br>goal=%{y}<extra></extra>\", \"legendgroup\": \"Photography\", \"marker\": {\"color\": \"#FF6692\"}, \"name\": \"Photography\", \"offsetgroup\": \"Photography\", \"orientation\": \"v\", \"showlegend\": true, \"textposition\": \"auto\", \"type\": \"bar\", \"x\": [\"Photography\", \"Photography\", \"Photography\", \"Photography\", \"Photography\", \"Photography\", \"Photography\", \"Photography\", \"Photography\", \"Photography\", \"Photography\", \"Photography\"], \"xaxis\": \"x\", \"y\": [15000.0, 4000.0, 6000.0, 18000.0, 10000.0, 2500.0, 2000.0, 1500.0, 700.0, 6000.0, 2000.0, 5000.0], \"yaxis\": \"y\"}, {\"alignmentgroup\": \"True\", \"hovertemplate\": \"main_category=%{x}<br>goal=%{y}<extra></extra>\", \"legendgroup\": \"Games\", \"marker\": {\"color\": \"#B6E880\"}, \"name\": \"Games\", \"offsetgroup\": \"Games\", \"orientation\": \"v\", \"showlegend\": true, \"textposition\": \"auto\", \"type\": \"bar\", \"x\": [\"Games\", \"Games\", \"Games\", \"Games\", \"Games\", \"Games\", \"Games\", \"Games\", \"Games\", \"Games\", \"Games\", \"Games\", \"Games\", \"Games\", \"Games\", \"Games\", \"Games\", \"Games\", \"Games\", \"Games\", \"Games\", \"Games\", \"Games\", \"Games\", \"Games\", \"Games\", \"Games\", \"Games\", \"Games\", \"Games\", \"Games\", \"Games\", \"Games\", \"Games\"], \"xaxis\": \"x\", \"y\": [3000.0, 25000.0, 19500.0, 2000.0, 200.0, 2500.0, 1500.0, 150.0, 750.0, 7000.0, 10000.0, 7500.0, 10200.0, 22500.0, 25000.0, 500.0, 89999.0, 20000.0, 2400.0, 1000.0, 15000.0, 13000.0, 27000.0, 20000.0, 60.0, 450.0, 10000.0, 1750.0, 15000.0, 100000.0, 12000.0, 6000.0, 1000.0, 7500.0], \"yaxis\": \"y\"}, {\"alignmentgroup\": \"True\", \"hovertemplate\": \"main_category=%{x}<br>goal=%{y}<extra></extra>\", \"legendgroup\": \"Theater\", \"marker\": {\"color\": \"#FF97FF\"}, \"name\": \"Theater\", \"offsetgroup\": \"Theater\", \"orientation\": \"v\", \"showlegend\": true, \"textposition\": \"auto\", \"type\": \"bar\", \"x\": [\"Theater\", \"Theater\", \"Theater\", \"Theater\", \"Theater\", \"Theater\", \"Theater\", \"Theater\", \"Theater\", \"Theater\", \"Theater\", \"Theater\", \"Theater\", \"Theater\", \"Theater\", \"Theater\", \"Theater\"], \"xaxis\": \"x\", \"y\": [15000.0, 7500.0, 2000.0, 7500.0, 4000.0, 9000.0, 1971.0, 900.0, 500.0, 250.0, 1100.0, 2500.0, 3000.0, 3600.0, 2700.0, 10000.0, 1000.0], \"yaxis\": \"y\"}, {\"alignmentgroup\": \"True\", \"hovertemplate\": \"main_category=%{x}<br>goal=%{y}<extra></extra>\", \"legendgroup\": \"Publishing\", \"marker\": {\"color\": \"#FECB52\"}, \"name\": \"Publishing\", \"offsetgroup\": \"Publishing\", \"orientation\": \"v\", \"showlegend\": true, \"textposition\": \"auto\", \"type\": \"bar\", \"x\": [\"Publishing\", \"Publishing\", \"Publishing\", \"Publishing\", \"Publishing\", \"Publishing\", \"Publishing\", \"Publishing\", \"Publishing\", \"Publishing\", \"Publishing\", \"Publishing\", \"Publishing\", \"Publishing\", \"Publishing\", \"Publishing\", \"Publishing\", \"Publishing\", \"Publishing\", \"Publishing\", \"Publishing\", \"Publishing\", \"Publishing\", \"Publishing\", \"Publishing\", \"Publishing\", \"Publishing\"], \"xaxis\": \"x\", \"y\": [1000.0, 1400.0, 1000.0, 7500.0, 5500.0, 19650.0, 1500.0, 350.0, 2200.0, 2000.0, 16000.0, 10080.0, 4399.0, 500.0, 55000.0, 4444.0, 4500.0, 3000.0, 3000.0, 4500.0, 1500.0, 10000.0, 2000.0, 2000.0, 800.0, 4000.0, 10000.0], \"yaxis\": \"y\"}, {\"alignmentgroup\": \"True\", \"hovertemplate\": \"main_category=%{x}<br>goal=%{y}<extra></extra>\", \"legendgroup\": \"Art\", \"marker\": {\"color\": \"#636efa\"}, \"name\": \"Art\", \"offsetgroup\": \"Art\", \"orientation\": \"v\", \"showlegend\": true, \"textposition\": \"auto\", \"type\": \"bar\", \"x\": [\"Art\", \"Art\", \"Art\", \"Art\", \"Art\", \"Art\", \"Art\", \"Art\", \"Art\", \"Art\", \"Art\", \"Art\", \"Art\", \"Art\", \"Art\", \"Art\", \"Art\", \"Art\", \"Art\", \"Art\", \"Art\", \"Art\", \"Art\", \"Art\", \"Art\", \"Art\", \"Art\", \"Art\", \"Art\", \"Art\", \"Art\", \"Art\", \"Art\", \"Art\", \"Art\", \"Art\", \"Art\", \"Art\", \"Art\", \"Art\", \"Art\", \"Art\"], \"xaxis\": \"x\", \"y\": [800.0, 650.0, 1500.0, 275.0, 3000.0, 3000.0, 1000.0, 10000.0, 550.0, 4500.0, 9900.0, 4800.0, 5500.0, 10900.0, 4000.0, 3000.0, 10000.0, 500.0, 2300.0, 10000.0, 100000.0, 1000.0, 1000.0, 750.0, 5000.0, 2750.0, 520.0, 15000.0, 2000.0, 600.0, 700.0, 1400.0, 3500.0, 250.0, 7500.0, 500.0, 1000.0, 1300.0, 999.0, 3000.0, 3000.0, 3000.0], \"yaxis\": \"y\"}, {\"alignmentgroup\": \"True\", \"hovertemplate\": \"main_category=%{x}<br>goal=%{y}<extra></extra>\", \"legendgroup\": \"Technology\", \"marker\": {\"color\": \"#EF553B\"}, \"name\": \"Technology\", \"offsetgroup\": \"Technology\", \"orientation\": \"v\", \"showlegend\": true, \"textposition\": \"auto\", \"type\": \"bar\", \"x\": [\"Technology\", \"Technology\", \"Technology\", \"Technology\", \"Technology\", \"Technology\", \"Technology\", \"Technology\", \"Technology\", \"Technology\", \"Technology\", \"Technology\", \"Technology\", \"Technology\", \"Technology\", \"Technology\", \"Technology\", \"Technology\", \"Technology\", \"Technology\", \"Technology\", \"Technology\", \"Technology\"], \"xaxis\": \"x\", \"y\": [250000.0, 40000.0, 55000.0, 5000.0, 5500.0, 25000.0, 10000.0, 10000.0, 25000.0, 1000.0, 25000.0, 8500.0, 30000.0, 20000.0, 9000.0, 2500.0, 5000.0, 19500.0, 20000.0, 25000.0, 30000.0, 72083.0, 25000.0], \"yaxis\": \"y\"}, {\"alignmentgroup\": \"True\", \"hovertemplate\": \"main_category=%{x}<br>goal=%{y}<extra></extra>\", \"legendgroup\": \"Dance\", \"marker\": {\"color\": \"#00cc96\"}, \"name\": \"Dance\", \"offsetgroup\": \"Dance\", \"orientation\": \"v\", \"showlegend\": true, \"textposition\": \"auto\", \"type\": \"bar\", \"x\": [\"Dance\", \"Dance\", \"Dance\", \"Dance\", \"Dance\", \"Dance\", \"Dance\", \"Dance\", \"Dance\"], \"xaxis\": \"x\", \"y\": [1200.0, 1500.0, 6000.0, 3500.0, 850.0, 5000.0, 14000.0, 2223.0, 25000.0], \"yaxis\": \"y\"}, {\"alignmentgroup\": \"True\", \"hovertemplate\": \"main_category=%{x}<br>goal=%{y}<extra></extra>\", \"legendgroup\": \"Crafts\", \"marker\": {\"color\": \"#ab63fa\"}, \"name\": \"Crafts\", \"offsetgroup\": \"Crafts\", \"orientation\": \"v\", \"showlegend\": true, \"textposition\": \"auto\", \"type\": \"bar\", \"x\": [\"Crafts\", \"Crafts\", \"Crafts\", \"Crafts\"], \"xaxis\": \"x\", \"y\": [250.0, 120.0, 3500.0, 10.0], \"yaxis\": \"y\"}, {\"alignmentgroup\": \"True\", \"hovertemplate\": \"main_category=%{x}<br>goal=%{y}<extra></extra>\", \"legendgroup\": \"Journalism\", \"marker\": {\"color\": \"#FFA15A\"}, \"name\": \"Journalism\", \"offsetgroup\": \"Journalism\", \"orientation\": \"v\", \"showlegend\": true, \"textposition\": \"auto\", \"type\": \"bar\", \"x\": [\"Journalism\", \"Journalism\", \"Journalism\", \"Journalism\"], \"xaxis\": \"x\", \"y\": [2500.0, 10000.0, 6000.0, 2000.0], \"yaxis\": \"y\"}],                        {\"barmode\": \"relative\", \"legend\": {\"title\": {\"text\": \"main_category\"}, \"tracegroupgap\": 0}, \"margin\": {\"t\": 60}, \"template\": {\"data\": {\"bar\": [{\"error_x\": {\"color\": \"#2a3f5f\"}, \"error_y\": {\"color\": \"#2a3f5f\"}, \"marker\": {\"line\": {\"color\": \"#E5ECF6\", \"width\": 0.5}}, \"type\": \"bar\"}], \"barpolar\": [{\"marker\": {\"line\": {\"color\": \"#E5ECF6\", \"width\": 0.5}}, \"type\": \"barpolar\"}], \"carpet\": [{\"aaxis\": {\"endlinecolor\": \"#2a3f5f\", \"gridcolor\": \"white\", \"linecolor\": \"white\", \"minorgridcolor\": \"white\", \"startlinecolor\": \"#2a3f5f\"}, \"baxis\": {\"endlinecolor\": \"#2a3f5f\", \"gridcolor\": \"white\", \"linecolor\": \"white\", \"minorgridcolor\": \"white\", \"startlinecolor\": \"#2a3f5f\"}, \"type\": \"carpet\"}], \"choropleth\": [{\"colorbar\": {\"outlinewidth\": 0, \"ticks\": \"\"}, \"type\": \"choropleth\"}], \"contour\": [{\"colorbar\": {\"outlinewidth\": 0, \"ticks\": \"\"}, \"colorscale\": [[0.0, \"#0d0887\"], [0.1111111111111111, \"#46039f\"], [0.2222222222222222, \"#7201a8\"], [0.3333333333333333, \"#9c179e\"], [0.4444444444444444, \"#bd3786\"], [0.5555555555555556, \"#d8576b\"], [0.6666666666666666, \"#ed7953\"], [0.7777777777777778, \"#fb9f3a\"], [0.8888888888888888, \"#fdca26\"], [1.0, \"#f0f921\"]], \"type\": \"contour\"}], \"contourcarpet\": [{\"colorbar\": {\"outlinewidth\": 0, \"ticks\": \"\"}, \"type\": \"contourcarpet\"}], \"heatmap\": [{\"colorbar\": {\"outlinewidth\": 0, \"ticks\": \"\"}, \"colorscale\": [[0.0, \"#0d0887\"], [0.1111111111111111, \"#46039f\"], [0.2222222222222222, \"#7201a8\"], [0.3333333333333333, \"#9c179e\"], [0.4444444444444444, \"#bd3786\"], [0.5555555555555556, \"#d8576b\"], [0.6666666666666666, \"#ed7953\"], [0.7777777777777778, \"#fb9f3a\"], [0.8888888888888888, \"#fdca26\"], [1.0, \"#f0f921\"]], \"type\": \"heatmap\"}], \"heatmapgl\": [{\"colorbar\": {\"outlinewidth\": 0, \"ticks\": \"\"}, \"colorscale\": [[0.0, \"#0d0887\"], [0.1111111111111111, \"#46039f\"], [0.2222222222222222, \"#7201a8\"], [0.3333333333333333, \"#9c179e\"], [0.4444444444444444, \"#bd3786\"], [0.5555555555555556, \"#d8576b\"], [0.6666666666666666, \"#ed7953\"], [0.7777777777777778, \"#fb9f3a\"], [0.8888888888888888, \"#fdca26\"], [1.0, \"#f0f921\"]], \"type\": \"heatmapgl\"}], \"histogram\": [{\"marker\": {\"colorbar\": {\"outlinewidth\": 0, \"ticks\": \"\"}}, \"type\": \"histogram\"}], \"histogram2d\": [{\"colorbar\": {\"outlinewidth\": 0, \"ticks\": \"\"}, \"colorscale\": [[0.0, \"#0d0887\"], [0.1111111111111111, \"#46039f\"], [0.2222222222222222, \"#7201a8\"], [0.3333333333333333, \"#9c179e\"], [0.4444444444444444, \"#bd3786\"], [0.5555555555555556, \"#d8576b\"], [0.6666666666666666, \"#ed7953\"], [0.7777777777777778, \"#fb9f3a\"], [0.8888888888888888, \"#fdca26\"], [1.0, \"#f0f921\"]], \"type\": \"histogram2d\"}], \"histogram2dcontour\": [{\"colorbar\": {\"outlinewidth\": 0, \"ticks\": \"\"}, \"colorscale\": [[0.0, \"#0d0887\"], [0.1111111111111111, \"#46039f\"], [0.2222222222222222, \"#7201a8\"], [0.3333333333333333, \"#9c179e\"], [0.4444444444444444, \"#bd3786\"], [0.5555555555555556, \"#d8576b\"], [0.6666666666666666, \"#ed7953\"], [0.7777777777777778, \"#fb9f3a\"], [0.8888888888888888, \"#fdca26\"], [1.0, \"#f0f921\"]], \"type\": \"histogram2dcontour\"}], \"mesh3d\": [{\"colorbar\": {\"outlinewidth\": 0, \"ticks\": \"\"}, \"type\": \"mesh3d\"}], \"parcoords\": [{\"line\": {\"colorbar\": {\"outlinewidth\": 0, \"ticks\": \"\"}}, \"type\": \"parcoords\"}], \"pie\": [{\"automargin\": true, \"type\": \"pie\"}], \"scatter\": [{\"marker\": {\"colorbar\": {\"outlinewidth\": 0, \"ticks\": \"\"}}, \"type\": \"scatter\"}], \"scatter3d\": [{\"line\": {\"colorbar\": {\"outlinewidth\": 0, \"ticks\": \"\"}}, \"marker\": {\"colorbar\": {\"outlinewidth\": 0, \"ticks\": \"\"}}, \"type\": \"scatter3d\"}], \"scattercarpet\": [{\"marker\": {\"colorbar\": {\"outlinewidth\": 0, \"ticks\": \"\"}}, \"type\": \"scattercarpet\"}], \"scattergeo\": [{\"marker\": {\"colorbar\": {\"outlinewidth\": 0, \"ticks\": \"\"}}, \"type\": \"scattergeo\"}], \"scattergl\": [{\"marker\": {\"colorbar\": {\"outlinewidth\": 0, \"ticks\": \"\"}}, \"type\": \"scattergl\"}], \"scattermapbox\": [{\"marker\": {\"colorbar\": {\"outlinewidth\": 0, \"ticks\": \"\"}}, \"type\": \"scattermapbox\"}], \"scatterpolar\": [{\"marker\": {\"colorbar\": {\"outlinewidth\": 0, \"ticks\": \"\"}}, \"type\": \"scatterpolar\"}], \"scatterpolargl\": [{\"marker\": {\"colorbar\": {\"outlinewidth\": 0, \"ticks\": \"\"}}, \"type\": \"scatterpolargl\"}], \"scatterternary\": [{\"marker\": {\"colorbar\": {\"outlinewidth\": 0, \"ticks\": \"\"}}, \"type\": \"scatterternary\"}], \"surface\": [{\"colorbar\": {\"outlinewidth\": 0, \"ticks\": \"\"}, \"colorscale\": [[0.0, \"#0d0887\"], [0.1111111111111111, \"#46039f\"], [0.2222222222222222, \"#7201a8\"], [0.3333333333333333, \"#9c179e\"], [0.4444444444444444, \"#bd3786\"], [0.5555555555555556, \"#d8576b\"], [0.6666666666666666, \"#ed7953\"], [0.7777777777777778, \"#fb9f3a\"], [0.8888888888888888, \"#fdca26\"], [1.0, \"#f0f921\"]], \"type\": \"surface\"}], \"table\": [{\"cells\": {\"fill\": {\"color\": \"#EBF0F8\"}, \"line\": {\"color\": \"white\"}}, \"header\": {\"fill\": {\"color\": \"#C8D4E3\"}, \"line\": {\"color\": \"white\"}}, \"type\": \"table\"}]}, \"layout\": {\"annotationdefaults\": {\"arrowcolor\": \"#2a3f5f\", \"arrowhead\": 0, \"arrowwidth\": 1}, \"coloraxis\": {\"colorbar\": {\"outlinewidth\": 0, \"ticks\": \"\"}}, \"colorscale\": {\"diverging\": [[0, \"#8e0152\"], [0.1, \"#c51b7d\"], [0.2, \"#de77ae\"], [0.3, \"#f1b6da\"], [0.4, \"#fde0ef\"], [0.5, \"#f7f7f7\"], [0.6, \"#e6f5d0\"], [0.7, \"#b8e186\"], [0.8, \"#7fbc41\"], [0.9, \"#4d9221\"], [1, \"#276419\"]], \"sequential\": [[0.0, \"#0d0887\"], [0.1111111111111111, \"#46039f\"], [0.2222222222222222, \"#7201a8\"], [0.3333333333333333, \"#9c179e\"], [0.4444444444444444, \"#bd3786\"], [0.5555555555555556, \"#d8576b\"], [0.6666666666666666, \"#ed7953\"], [0.7777777777777778, \"#fb9f3a\"], [0.8888888888888888, \"#fdca26\"], [1.0, \"#f0f921\"]], \"sequentialminus\": [[0.0, \"#0d0887\"], [0.1111111111111111, \"#46039f\"], [0.2222222222222222, \"#7201a8\"], [0.3333333333333333, \"#9c179e\"], [0.4444444444444444, \"#bd3786\"], [0.5555555555555556, \"#d8576b\"], [0.6666666666666666, \"#ed7953\"], [0.7777777777777778, \"#fb9f3a\"], [0.8888888888888888, \"#fdca26\"], [1.0, \"#f0f921\"]]}, \"colorway\": [\"#636efa\", \"#EF553B\", \"#00cc96\", \"#ab63fa\", \"#FFA15A\", \"#19d3f3\", \"#FF6692\", \"#B6E880\", \"#FF97FF\", \"#FECB52\"], \"font\": {\"color\": \"#2a3f5f\"}, \"geo\": {\"bgcolor\": \"white\", \"lakecolor\": \"white\", \"landcolor\": \"#E5ECF6\", \"showlakes\": true, \"showland\": true, \"subunitcolor\": \"white\"}, \"hoverlabel\": {\"align\": \"left\"}, \"hovermode\": \"closest\", \"mapbox\": {\"style\": \"light\"}, \"paper_bgcolor\": \"white\", \"plot_bgcolor\": \"#E5ECF6\", \"polar\": {\"angularaxis\": {\"gridcolor\": \"white\", \"linecolor\": \"white\", \"ticks\": \"\"}, \"bgcolor\": \"#E5ECF6\", \"radialaxis\": {\"gridcolor\": \"white\", \"linecolor\": \"white\", \"ticks\": \"\"}}, \"scene\": {\"xaxis\": {\"backgroundcolor\": \"#E5ECF6\", \"gridcolor\": \"white\", \"gridwidth\": 2, \"linecolor\": \"white\", \"showbackground\": true, \"ticks\": \"\", \"zerolinecolor\": \"white\"}, \"yaxis\": {\"backgroundcolor\": \"#E5ECF6\", \"gridcolor\": \"white\", \"gridwidth\": 2, \"linecolor\": \"white\", \"showbackground\": true, \"ticks\": \"\", \"zerolinecolor\": \"white\"}, \"zaxis\": {\"backgroundcolor\": \"#E5ECF6\", \"gridcolor\": \"white\", \"gridwidth\": 2, \"linecolor\": \"white\", \"showbackground\": true, \"ticks\": \"\", \"zerolinecolor\": \"white\"}}, \"shapedefaults\": {\"line\": {\"color\": \"#2a3f5f\"}}, \"ternary\": {\"aaxis\": {\"gridcolor\": \"white\", \"linecolor\": \"white\", \"ticks\": \"\"}, \"baxis\": {\"gridcolor\": \"white\", \"linecolor\": \"white\", \"ticks\": \"\"}, \"bgcolor\": \"#E5ECF6\", \"caxis\": {\"gridcolor\": \"white\", \"linecolor\": \"white\", \"ticks\": \"\"}}, \"title\": {\"x\": 0.05}, \"xaxis\": {\"automargin\": true, \"gridcolor\": \"white\", \"linecolor\": \"white\", \"ticks\": \"\", \"title\": {\"standoff\": 15}, \"zerolinecolor\": \"white\", \"zerolinewidth\": 2}, \"yaxis\": {\"automargin\": true, \"gridcolor\": \"white\", \"linecolor\": \"white\", \"ticks\": \"\", \"title\": {\"standoff\": 15}, \"zerolinecolor\": \"white\", \"zerolinewidth\": 2}}}, \"xaxis\": {\"anchor\": \"y\", \"categoryarray\": [\"Food\", \"Music\", \"Fashion\", \"Comics\", \"Film & Video\", \"Design\", \"Photography\", \"Games\", \"Theater\", \"Publishing\", \"Art\", \"Technology\", \"Dance\", \"Crafts\", \"Journalism\"], \"categoryorder\": \"array\", \"domain\": [0.0, 1.0], \"title\": {\"text\": \"main_category\"}}, \"yaxis\": {\"anchor\": \"x\", \"domain\": [0.0, 1.0], \"title\": {\"text\": \"goal\"}}},                        {\"responsive\": true}                    ).then(function(){\n",
              "                            \n",
              "var gd = document.getElementById('0dbe808e-a75e-4250-9de9-ecb603f24ced');\n",
              "var x = new MutationObserver(function (mutations, observer) {{\n",
              "        var display = window.getComputedStyle(gd).display;\n",
              "        if (!display || display === 'none') {{\n",
              "            console.log([gd, 'removed!']);\n",
              "            Plotly.purge(gd);\n",
              "            observer.disconnect();\n",
              "        }}\n",
              "}});\n",
              "\n",
              "// Listen for the removal of the full notebook cells\n",
              "var notebookContainer = gd.closest('#notebook-container');\n",
              "if (notebookContainer) {{\n",
              "    x.observe(notebookContainer, {childList: true});\n",
              "}}\n",
              "\n",
              "// Listen for the clearing of the current output cell\n",
              "var outputEl = gd.closest('.output');\n",
              "if (outputEl) {{\n",
              "    x.observe(outputEl, {childList: true});\n",
              "}}\n",
              "\n",
              "                        })                };                            </script>        </div>\n",
              "</body>\n",
              "</html>"
            ]
          },
          "metadata": {
            "tags": []
          }
        }
      ]
    },
    {
      "cell_type": "code",
      "metadata": {
        "id": "hQeKIDg23to0",
        "colab_type": "code",
        "colab": {
          "base_uri": "https://localhost:8080/",
          "height": 542
        },
        "outputId": "e467b866-eb87-459c-874a-8bebbcea7814"
      },
      "source": [
        "# import plotly.express as px\n",
        "# df = px.data.tips()\n",
        "# fig = px.bar(df, x=\"sex\", y=\"total_bill\", color='time')\n",
        "# fig.show()"
      ],
      "execution_count": 20,
      "outputs": [
        {
          "output_type": "display_data",
          "data": {
            "text/html": [
              "<html>\n",
              "<head><meta charset=\"utf-8\" /></head>\n",
              "<body>\n",
              "    <div>            <script src=\"https://cdnjs.cloudflare.com/ajax/libs/mathjax/2.7.5/MathJax.js?config=TeX-AMS-MML_SVG\"></script><script type=\"text/javascript\">if (window.MathJax) {MathJax.Hub.Config({SVG: {font: \"STIX-Web\"}});}</script>                <script type=\"text/javascript\">window.PlotlyConfig = {MathJaxConfig: 'local'};</script>\n",
              "        <script src=\"https://cdn.plot.ly/plotly-latest.min.js\"></script>                <div id=\"ef06e11e-d064-49dc-a6e9-404d77dc9c65\" class=\"plotly-graph-div\" style=\"height:525px; width:100%;\"></div>            <script type=\"text/javascript\">                                    window.PLOTLYENV=window.PLOTLYENV || {};                                    if (document.getElementById(\"ef06e11e-d064-49dc-a6e9-404d77dc9c65\")) {                    Plotly.newPlot(                        \"ef06e11e-d064-49dc-a6e9-404d77dc9c65\",                        [{\"alignmentgroup\": \"True\", \"hovertemplate\": \"time=Dinner<br>sex=%{x}<br>total_bill=%{y}<extra></extra>\", \"legendgroup\": \"Dinner\", \"marker\": {\"color\": \"#636efa\"}, \"name\": \"Dinner\", \"offsetgroup\": \"Dinner\", \"orientation\": \"v\", \"showlegend\": true, \"textposition\": \"auto\", \"type\": \"bar\", \"x\": [\"Female\", \"Male\", \"Male\", \"Male\", \"Female\", \"Male\", \"Male\", \"Male\", \"Male\", \"Male\", \"Male\", \"Female\", \"Male\", \"Male\", \"Female\", \"Male\", \"Female\", \"Male\", \"Female\", \"Male\", \"Male\", \"Female\", \"Female\", \"Male\", \"Male\", \"Male\", \"Male\", \"Male\", \"Male\", \"Female\", \"Male\", \"Male\", \"Female\", \"Female\", \"Male\", \"Male\", \"Male\", \"Female\", \"Male\", \"Male\", \"Male\", \"Male\", \"Male\", \"Male\", \"Male\", \"Male\", \"Male\", \"Male\", \"Male\", \"Male\", \"Male\", \"Female\", \"Female\", \"Male\", \"Male\", \"Male\", \"Male\", \"Female\", \"Male\", \"Male\", \"Male\", \"Male\", \"Male\", \"Male\", \"Male\", \"Male\", \"Female\", \"Female\", \"Male\", \"Male\", \"Male\", \"Female\", \"Female\", \"Female\", \"Female\", \"Male\", \"Male\", \"Male\", \"Male\", \"Female\", \"Female\", \"Female\", \"Male\", \"Male\", \"Male\", \"Male\", \"Male\", \"Female\", \"Female\", \"Female\", \"Female\", \"Female\", \"Male\", \"Male\", \"Male\", \"Male\", \"Female\", \"Male\", \"Female\", \"Male\", \"Male\", \"Female\", \"Female\", \"Male\", \"Male\", \"Male\", \"Male\", \"Male\", \"Male\", \"Female\", \"Male\", \"Female\", \"Female\", \"Male\", \"Male\", \"Male\", \"Female\", \"Male\", \"Female\", \"Male\", \"Male\", \"Male\", \"Female\", \"Female\", \"Male\", \"Male\", \"Male\", \"Male\", \"Male\", \"Male\", \"Male\", \"Male\", \"Female\", \"Male\", \"Male\", \"Male\", \"Male\", \"Male\", \"Male\", \"Male\", \"Female\", \"Male\", \"Female\", \"Male\", \"Male\", \"Male\", \"Male\", \"Male\", \"Female\", \"Male\", \"Male\", \"Male\", \"Female\", \"Female\", \"Female\", \"Male\", \"Male\", \"Male\", \"Female\", \"Male\", \"Male\", \"Female\", \"Male\", \"Male\", \"Male\", \"Male\", \"Male\", \"Male\", \"Male\", \"Male\", \"Female\", \"Male\", \"Female\", \"Male\", \"Male\", \"Female\"], \"xaxis\": \"x\", \"y\": [16.99, 10.34, 21.01, 23.68, 24.59, 25.29, 8.77, 26.88, 15.04, 14.78, 10.27, 35.26, 15.42, 18.43, 14.83, 21.58, 10.33, 16.29, 16.97, 20.65, 17.92, 20.29, 15.77, 39.42, 19.82, 17.81, 13.37, 12.69, 21.7, 19.65, 9.55, 18.35, 15.06, 20.69, 17.78, 24.06, 16.31, 16.93, 18.69, 31.27, 16.04, 17.46, 13.94, 9.68, 30.4, 18.29, 22.23, 32.4, 28.55, 18.04, 12.54, 10.29, 34.81, 9.94, 25.56, 19.49, 38.01, 26.41, 11.24, 48.27, 20.29, 13.81, 11.02, 18.29, 17.59, 20.08, 16.45, 3.07, 20.23, 15.01, 12.02, 17.07, 26.86, 25.28, 14.73, 10.51, 17.92, 28.97, 22.49, 5.75, 16.32, 22.75, 40.17, 27.28, 12.03, 21.01, 12.46, 11.35, 15.38, 44.3, 22.42, 20.92, 15.36, 20.49, 25.21, 18.24, 14.31, 14.0, 7.25, 38.07, 23.95, 25.71, 17.31, 29.93, 14.07, 13.13, 17.26, 24.55, 19.77, 29.85, 48.17, 25.0, 13.39, 16.49, 21.5, 12.66, 16.21, 13.81, 17.51, 24.52, 20.76, 31.71, 10.59, 10.63, 50.81, 15.81, 7.25, 31.85, 16.82, 32.9, 17.89, 14.48, 9.6, 34.63, 34.65, 23.33, 45.35, 23.17, 40.55, 20.69, 20.9, 30.46, 18.15, 23.1, 15.69, 26.59, 38.73, 24.27, 12.76, 30.06, 25.89, 48.33, 13.27, 28.17, 12.9, 28.15, 11.59, 7.74, 30.14, 20.45, 13.28, 22.12, 24.01, 15.69, 11.61, 10.77, 15.53, 10.07, 12.6, 32.83, 35.83, 29.03, 27.18, 22.67, 17.82, 18.78], \"yaxis\": \"y\"}, {\"alignmentgroup\": \"True\", \"hovertemplate\": \"time=Lunch<br>sex=%{x}<br>total_bill=%{y}<extra></extra>\", \"legendgroup\": \"Lunch\", \"marker\": {\"color\": \"#EF553B\"}, \"name\": \"Lunch\", \"offsetgroup\": \"Lunch\", \"orientation\": \"v\", \"showlegend\": true, \"textposition\": \"auto\", \"type\": \"bar\", \"x\": [\"Male\", \"Male\", \"Male\", \"Male\", \"Male\", \"Female\", \"Male\", \"Male\", \"Female\", \"Male\", \"Male\", \"Male\", \"Male\", \"Female\", \"Female\", \"Female\", \"Male\", \"Female\", \"Male\", \"Male\", \"Female\", \"Female\", \"Male\", \"Female\", \"Female\", \"Male\", \"Male\", \"Female\", \"Female\", \"Female\", \"Female\", \"Female\", \"Female\", \"Female\", \"Male\", \"Female\", \"Female\", \"Male\", \"Male\", \"Female\", \"Female\", \"Female\", \"Female\", \"Female\", \"Male\", \"Male\", \"Female\", \"Male\", \"Male\", \"Male\", \"Male\", \"Male\", \"Female\", \"Female\", \"Male\", \"Male\", \"Female\", \"Female\", \"Female\", \"Male\", \"Female\", \"Male\", \"Female\", \"Male\", \"Female\", \"Male\", \"Female\", \"Female\"], \"xaxis\": \"x\", \"y\": [27.2, 22.76, 17.29, 19.44, 16.66, 10.07, 32.68, 15.98, 34.83, 13.03, 18.28, 24.71, 21.16, 10.65, 12.43, 24.08, 11.69, 13.42, 14.26, 15.95, 12.48, 29.8, 8.52, 14.52, 11.38, 22.82, 19.08, 20.27, 11.17, 12.26, 18.26, 8.51, 10.33, 14.15, 16.0, 13.16, 17.47, 34.3, 41.19, 27.05, 16.43, 8.35, 18.64, 11.87, 9.78, 7.51, 19.81, 28.44, 15.48, 16.58, 7.56, 10.34, 43.11, 13.0, 13.51, 18.71, 12.74, 13.0, 16.4, 20.53, 16.47, 12.16, 13.42, 8.58, 15.98, 13.42, 16.27, 10.09], \"yaxis\": \"y\"}],                        {\"barmode\": \"relative\", \"legend\": {\"title\": {\"text\": \"time\"}, \"tracegroupgap\": 0}, \"margin\": {\"t\": 60}, \"template\": {\"data\": {\"bar\": [{\"error_x\": {\"color\": \"#2a3f5f\"}, \"error_y\": {\"color\": \"#2a3f5f\"}, \"marker\": {\"line\": {\"color\": \"#E5ECF6\", \"width\": 0.5}}, \"type\": \"bar\"}], \"barpolar\": [{\"marker\": {\"line\": {\"color\": \"#E5ECF6\", \"width\": 0.5}}, \"type\": \"barpolar\"}], \"carpet\": [{\"aaxis\": {\"endlinecolor\": \"#2a3f5f\", \"gridcolor\": \"white\", \"linecolor\": \"white\", \"minorgridcolor\": \"white\", \"startlinecolor\": \"#2a3f5f\"}, \"baxis\": {\"endlinecolor\": \"#2a3f5f\", \"gridcolor\": \"white\", \"linecolor\": \"white\", \"minorgridcolor\": \"white\", \"startlinecolor\": \"#2a3f5f\"}, \"type\": \"carpet\"}], \"choropleth\": [{\"colorbar\": {\"outlinewidth\": 0, \"ticks\": \"\"}, \"type\": \"choropleth\"}], \"contour\": [{\"colorbar\": {\"outlinewidth\": 0, \"ticks\": \"\"}, \"colorscale\": [[0.0, \"#0d0887\"], [0.1111111111111111, \"#46039f\"], [0.2222222222222222, \"#7201a8\"], [0.3333333333333333, \"#9c179e\"], [0.4444444444444444, \"#bd3786\"], [0.5555555555555556, \"#d8576b\"], [0.6666666666666666, \"#ed7953\"], [0.7777777777777778, \"#fb9f3a\"], [0.8888888888888888, \"#fdca26\"], [1.0, \"#f0f921\"]], \"type\": \"contour\"}], \"contourcarpet\": [{\"colorbar\": {\"outlinewidth\": 0, \"ticks\": \"\"}, \"type\": \"contourcarpet\"}], \"heatmap\": [{\"colorbar\": {\"outlinewidth\": 0, \"ticks\": \"\"}, \"colorscale\": [[0.0, \"#0d0887\"], [0.1111111111111111, \"#46039f\"], [0.2222222222222222, \"#7201a8\"], [0.3333333333333333, \"#9c179e\"], [0.4444444444444444, \"#bd3786\"], [0.5555555555555556, \"#d8576b\"], [0.6666666666666666, \"#ed7953\"], [0.7777777777777778, \"#fb9f3a\"], [0.8888888888888888, \"#fdca26\"], [1.0, \"#f0f921\"]], \"type\": \"heatmap\"}], \"heatmapgl\": [{\"colorbar\": {\"outlinewidth\": 0, \"ticks\": \"\"}, \"colorscale\": [[0.0, \"#0d0887\"], [0.1111111111111111, \"#46039f\"], [0.2222222222222222, \"#7201a8\"], [0.3333333333333333, \"#9c179e\"], [0.4444444444444444, \"#bd3786\"], [0.5555555555555556, \"#d8576b\"], [0.6666666666666666, \"#ed7953\"], [0.7777777777777778, \"#fb9f3a\"], [0.8888888888888888, \"#fdca26\"], [1.0, \"#f0f921\"]], \"type\": \"heatmapgl\"}], \"histogram\": [{\"marker\": {\"colorbar\": {\"outlinewidth\": 0, \"ticks\": \"\"}}, \"type\": \"histogram\"}], \"histogram2d\": [{\"colorbar\": {\"outlinewidth\": 0, \"ticks\": \"\"}, \"colorscale\": [[0.0, \"#0d0887\"], [0.1111111111111111, \"#46039f\"], [0.2222222222222222, \"#7201a8\"], [0.3333333333333333, \"#9c179e\"], [0.4444444444444444, \"#bd3786\"], [0.5555555555555556, \"#d8576b\"], [0.6666666666666666, \"#ed7953\"], [0.7777777777777778, \"#fb9f3a\"], [0.8888888888888888, \"#fdca26\"], [1.0, \"#f0f921\"]], \"type\": \"histogram2d\"}], \"histogram2dcontour\": [{\"colorbar\": {\"outlinewidth\": 0, \"ticks\": \"\"}, \"colorscale\": [[0.0, \"#0d0887\"], [0.1111111111111111, \"#46039f\"], [0.2222222222222222, \"#7201a8\"], [0.3333333333333333, \"#9c179e\"], [0.4444444444444444, \"#bd3786\"], [0.5555555555555556, \"#d8576b\"], [0.6666666666666666, \"#ed7953\"], [0.7777777777777778, \"#fb9f3a\"], [0.8888888888888888, \"#fdca26\"], [1.0, \"#f0f921\"]], \"type\": \"histogram2dcontour\"}], \"mesh3d\": [{\"colorbar\": {\"outlinewidth\": 0, \"ticks\": \"\"}, \"type\": \"mesh3d\"}], \"parcoords\": [{\"line\": {\"colorbar\": {\"outlinewidth\": 0, \"ticks\": \"\"}}, \"type\": \"parcoords\"}], \"pie\": [{\"automargin\": true, \"type\": \"pie\"}], \"scatter\": [{\"marker\": {\"colorbar\": {\"outlinewidth\": 0, \"ticks\": \"\"}}, \"type\": \"scatter\"}], \"scatter3d\": [{\"line\": {\"colorbar\": {\"outlinewidth\": 0, \"ticks\": \"\"}}, \"marker\": {\"colorbar\": {\"outlinewidth\": 0, \"ticks\": \"\"}}, \"type\": \"scatter3d\"}], \"scattercarpet\": [{\"marker\": {\"colorbar\": {\"outlinewidth\": 0, \"ticks\": \"\"}}, \"type\": \"scattercarpet\"}], \"scattergeo\": [{\"marker\": {\"colorbar\": {\"outlinewidth\": 0, \"ticks\": \"\"}}, \"type\": \"scattergeo\"}], \"scattergl\": [{\"marker\": {\"colorbar\": {\"outlinewidth\": 0, \"ticks\": \"\"}}, \"type\": \"scattergl\"}], \"scattermapbox\": [{\"marker\": {\"colorbar\": {\"outlinewidth\": 0, \"ticks\": \"\"}}, \"type\": \"scattermapbox\"}], \"scatterpolar\": [{\"marker\": {\"colorbar\": {\"outlinewidth\": 0, \"ticks\": \"\"}}, \"type\": \"scatterpolar\"}], \"scatterpolargl\": [{\"marker\": {\"colorbar\": {\"outlinewidth\": 0, \"ticks\": \"\"}}, \"type\": \"scatterpolargl\"}], \"scatterternary\": [{\"marker\": {\"colorbar\": {\"outlinewidth\": 0, \"ticks\": \"\"}}, \"type\": \"scatterternary\"}], \"surface\": [{\"colorbar\": {\"outlinewidth\": 0, \"ticks\": \"\"}, \"colorscale\": [[0.0, \"#0d0887\"], [0.1111111111111111, \"#46039f\"], [0.2222222222222222, \"#7201a8\"], [0.3333333333333333, \"#9c179e\"], [0.4444444444444444, \"#bd3786\"], [0.5555555555555556, \"#d8576b\"], [0.6666666666666666, \"#ed7953\"], [0.7777777777777778, \"#fb9f3a\"], [0.8888888888888888, \"#fdca26\"], [1.0, \"#f0f921\"]], \"type\": \"surface\"}], \"table\": [{\"cells\": {\"fill\": {\"color\": \"#EBF0F8\"}, \"line\": {\"color\": \"white\"}}, \"header\": {\"fill\": {\"color\": \"#C8D4E3\"}, \"line\": {\"color\": \"white\"}}, \"type\": \"table\"}]}, \"layout\": {\"annotationdefaults\": {\"arrowcolor\": \"#2a3f5f\", \"arrowhead\": 0, \"arrowwidth\": 1}, \"coloraxis\": {\"colorbar\": {\"outlinewidth\": 0, \"ticks\": \"\"}}, \"colorscale\": {\"diverging\": [[0, \"#8e0152\"], [0.1, \"#c51b7d\"], [0.2, \"#de77ae\"], [0.3, \"#f1b6da\"], [0.4, \"#fde0ef\"], [0.5, \"#f7f7f7\"], [0.6, \"#e6f5d0\"], [0.7, \"#b8e186\"], [0.8, \"#7fbc41\"], [0.9, \"#4d9221\"], [1, \"#276419\"]], \"sequential\": [[0.0, \"#0d0887\"], [0.1111111111111111, \"#46039f\"], [0.2222222222222222, \"#7201a8\"], [0.3333333333333333, \"#9c179e\"], [0.4444444444444444, \"#bd3786\"], [0.5555555555555556, \"#d8576b\"], [0.6666666666666666, \"#ed7953\"], [0.7777777777777778, \"#fb9f3a\"], [0.8888888888888888, \"#fdca26\"], [1.0, \"#f0f921\"]], \"sequentialminus\": [[0.0, \"#0d0887\"], [0.1111111111111111, \"#46039f\"], [0.2222222222222222, \"#7201a8\"], [0.3333333333333333, \"#9c179e\"], [0.4444444444444444, \"#bd3786\"], [0.5555555555555556, \"#d8576b\"], [0.6666666666666666, \"#ed7953\"], [0.7777777777777778, \"#fb9f3a\"], [0.8888888888888888, \"#fdca26\"], [1.0, \"#f0f921\"]]}, \"colorway\": [\"#636efa\", \"#EF553B\", \"#00cc96\", \"#ab63fa\", \"#FFA15A\", \"#19d3f3\", \"#FF6692\", \"#B6E880\", \"#FF97FF\", \"#FECB52\"], \"font\": {\"color\": \"#2a3f5f\"}, \"geo\": {\"bgcolor\": \"white\", \"lakecolor\": \"white\", \"landcolor\": \"#E5ECF6\", \"showlakes\": true, \"showland\": true, \"subunitcolor\": \"white\"}, \"hoverlabel\": {\"align\": \"left\"}, \"hovermode\": \"closest\", \"mapbox\": {\"style\": \"light\"}, \"paper_bgcolor\": \"white\", \"plot_bgcolor\": \"#E5ECF6\", \"polar\": {\"angularaxis\": {\"gridcolor\": \"white\", \"linecolor\": \"white\", \"ticks\": \"\"}, \"bgcolor\": \"#E5ECF6\", \"radialaxis\": {\"gridcolor\": \"white\", \"linecolor\": \"white\", \"ticks\": \"\"}}, \"scene\": {\"xaxis\": {\"backgroundcolor\": \"#E5ECF6\", \"gridcolor\": \"white\", \"gridwidth\": 2, \"linecolor\": \"white\", \"showbackground\": true, \"ticks\": \"\", \"zerolinecolor\": \"white\"}, \"yaxis\": {\"backgroundcolor\": \"#E5ECF6\", \"gridcolor\": \"white\", \"gridwidth\": 2, \"linecolor\": \"white\", \"showbackground\": true, \"ticks\": \"\", \"zerolinecolor\": \"white\"}, \"zaxis\": {\"backgroundcolor\": \"#E5ECF6\", \"gridcolor\": \"white\", \"gridwidth\": 2, \"linecolor\": \"white\", \"showbackground\": true, \"ticks\": \"\", \"zerolinecolor\": \"white\"}}, \"shapedefaults\": {\"line\": {\"color\": \"#2a3f5f\"}}, \"ternary\": {\"aaxis\": {\"gridcolor\": \"white\", \"linecolor\": \"white\", \"ticks\": \"\"}, \"baxis\": {\"gridcolor\": \"white\", \"linecolor\": \"white\", \"ticks\": \"\"}, \"bgcolor\": \"#E5ECF6\", \"caxis\": {\"gridcolor\": \"white\", \"linecolor\": \"white\", \"ticks\": \"\"}}, \"title\": {\"x\": 0.05}, \"xaxis\": {\"automargin\": true, \"gridcolor\": \"white\", \"linecolor\": \"white\", \"ticks\": \"\", \"title\": {\"standoff\": 15}, \"zerolinecolor\": \"white\", \"zerolinewidth\": 2}, \"yaxis\": {\"automargin\": true, \"gridcolor\": \"white\", \"linecolor\": \"white\", \"ticks\": \"\", \"title\": {\"standoff\": 15}, \"zerolinecolor\": \"white\", \"zerolinewidth\": 2}}}, \"xaxis\": {\"anchor\": \"y\", \"domain\": [0.0, 1.0], \"title\": {\"text\": \"sex\"}}, \"yaxis\": {\"anchor\": \"x\", \"domain\": [0.0, 1.0], \"title\": {\"text\": \"total_bill\"}}},                        {\"responsive\": true}                    ).then(function(){\n",
              "                            \n",
              "var gd = document.getElementById('ef06e11e-d064-49dc-a6e9-404d77dc9c65');\n",
              "var x = new MutationObserver(function (mutations, observer) {{\n",
              "        var display = window.getComputedStyle(gd).display;\n",
              "        if (!display || display === 'none') {{\n",
              "            console.log([gd, 'removed!']);\n",
              "            Plotly.purge(gd);\n",
              "            observer.disconnect();\n",
              "        }}\n",
              "}});\n",
              "\n",
              "// Listen for the removal of the full notebook cells\n",
              "var notebookContainer = gd.closest('#notebook-container');\n",
              "if (notebookContainer) {{\n",
              "    x.observe(notebookContainer, {childList: true});\n",
              "}}\n",
              "\n",
              "// Listen for the clearing of the current output cell\n",
              "var outputEl = gd.closest('.output');\n",
              "if (outputEl) {{\n",
              "    x.observe(outputEl, {childList: true});\n",
              "}}\n",
              "\n",
              "                        })                };                            </script>        </div>\n",
              "</body>\n",
              "</html>"
            ]
          },
          "metadata": {
            "tags": []
          }
        }
      ]
    }
  ]
}