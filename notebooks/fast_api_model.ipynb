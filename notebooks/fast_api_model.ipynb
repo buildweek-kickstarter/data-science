{
  "nbformat": 4,
  "nbformat_minor": 0,
  "metadata": {
    "colab": {
      "name": "fast api model.ipynb",
      "provenance": []
    },
    "kernelspec": {
      "name": "python3",
      "display_name": "Python 3"
    }
  },
  "cells": [
    {
      "cell_type": "code",
      "metadata": {
        "id": "4ZcKEICq6b88",
        "colab_type": "code",
        "colab": {
          "base_uri": "https://localhost:8080/",
          "height": 185
        },
        "outputId": "c5b535c6-51a4-4169-8daa-26e06f1baffb"
      },
      "source": [
        "!pip install vaderSentiment\n",
        "\n",
        "import pandas as pd\n",
        "import numpy as np\n",
        "from vaderSentiment.vaderSentiment import SentimentIntensityAnalyzer"
      ],
      "execution_count": null,
      "outputs": [
        {
          "output_type": "stream",
          "text": [
            "Collecting vaderSentiment\n",
            "\u001b[?25l  Downloading https://files.pythonhosted.org/packages/76/fc/310e16254683c1ed35eeb97386986d6c00bc29df17ce280aed64d55537e9/vaderSentiment-3.3.2-py2.py3-none-any.whl (125kB)\n",
            "\r\u001b[K     |██▋                             | 10kB 15.3MB/s eta 0:00:01\r\u001b[K     |█████▏                          | 20kB 3.3MB/s eta 0:00:01\r\u001b[K     |███████▉                        | 30kB 3.8MB/s eta 0:00:01\r\u001b[K     |██████████▍                     | 40kB 4.5MB/s eta 0:00:01\r\u001b[K     |█████████████                   | 51kB 3.7MB/s eta 0:00:01\r\u001b[K     |███████████████▋                | 61kB 4.1MB/s eta 0:00:01\r\u001b[K     |██████████████████▏             | 71kB 4.5MB/s eta 0:00:01\r\u001b[K     |████████████████████▉           | 81kB 4.8MB/s eta 0:00:01\r\u001b[K     |███████████████████████▍        | 92kB 5.3MB/s eta 0:00:01\r\u001b[K     |██████████████████████████      | 102kB 5.1MB/s eta 0:00:01\r\u001b[K     |████████████████████████████▋   | 112kB 5.1MB/s eta 0:00:01\r\u001b[K     |███████████████████████████████▏| 122kB 5.1MB/s eta 0:00:01\r\u001b[K     |████████████████████████████████| 133kB 5.1MB/s \n",
            "\u001b[?25hRequirement already satisfied: requests in /usr/local/lib/python3.6/dist-packages (from vaderSentiment) (2.23.0)\n",
            "Requirement already satisfied: idna<3,>=2.5 in /usr/local/lib/python3.6/dist-packages (from requests->vaderSentiment) (2.10)\n",
            "Requirement already satisfied: certifi>=2017.4.17 in /usr/local/lib/python3.6/dist-packages (from requests->vaderSentiment) (2020.6.20)\n",
            "Requirement already satisfied: chardet<4,>=3.0.2 in /usr/local/lib/python3.6/dist-packages (from requests->vaderSentiment) (3.0.4)\n",
            "Requirement already satisfied: urllib3!=1.25.0,!=1.25.1,<1.26,>=1.21.1 in /usr/local/lib/python3.6/dist-packages (from requests->vaderSentiment) (1.24.3)\n",
            "Installing collected packages: vaderSentiment\n",
            "Successfully installed vaderSentiment-3.3.2\n"
          ],
          "name": "stdout"
        }
      ]
    },
    {
      "cell_type": "markdown",
      "metadata": {
        "id": "lAwtaCsi6gFj",
        "colab_type": "text"
      },
      "source": [
        "# Hard encode Input Dictionary"
      ]
    },
    {
      "cell_type": "code",
      "metadata": {
        "id": "1x7joJzNWkc_",
        "colab_type": "code",
        "colab": {}
      },
      "source": [
        "input = {\n",
        "    'name': 'terrible MegaBuster from Megaman X',\n",
        "    'goal': 10000,\n",
        "    'launched': '2015-08-11',\n",
        "    'deadline': '2015-08-18',\n",
        "    'backers':21,\n",
        "    'main_category': 11,\n",
        "    'username': 'LoginID'\n",
        "}"
      ],
      "execution_count": null,
      "outputs": []
    },
    {
      "cell_type": "code",
      "metadata": {
        "id": "FtqsEFQfWkXQ",
        "colab_type": "code",
        "colab": {
          "base_uri": "https://localhost:8080/",
          "height": 35
        },
        "outputId": "e4481ca4-332c-4719-9538-6d4ee1bf4eea"
      },
      "source": [
        "input['name']"
      ],
      "execution_count": null,
      "outputs": [
        {
          "output_type": "execute_result",
          "data": {
            "application/vnd.google.colaboratory.intrinsic+json": {
              "type": "string"
            },
            "text/plain": [
              "'Super MegaBuster from Megaman X'"
            ]
          },
          "metadata": {
            "tags": []
          },
          "execution_count": 157
        }
      ]
    },
    {
      "cell_type": "code",
      "metadata": {
        "id": "lY76DqjiWkL2",
        "colab_type": "code",
        "colab": {}
      },
      "source": [
        ""
      ],
      "execution_count": null,
      "outputs": []
    },
    {
      "cell_type": "markdown",
      "metadata": {
        "id": "WeXG-A1X6gCs",
        "colab_type": "text"
      },
      "source": [
        "# Make a function that takes in input dict and converts to dataframe"
      ]
    },
    {
      "cell_type": "code",
      "metadata": {
        "id": "JPUAM9YYYSAN",
        "colab_type": "code",
        "colab": {}
      },
      "source": [
        "def framemaker(web_in):\n",
        "# making dataframe out of dict  \n",
        "  input_frame = pd.DataFrame(web_in, index=[0])\n",
        "\n",
        "# changing datatype of start and end to date time\n",
        "# adding column length of campaign\n",
        "  input_frame['deadline'] = pd.to_datetime(input_frame['deadline'])\n",
        "  input_frame['launched'] = pd.to_datetime(input_frame['launched'])\n",
        "  input_frame['length_of_campaign'] = (input_frame['deadline'] - input_frame['launched']).dt.days\n",
        "\n",
        "# Using a pretrained neural network to encode title to numbers\n",
        "# Adding numbers to column as sentiments\n",
        "  sentiments =[] \n",
        "  analyzer = SentimentIntensityAnalyzer()\n",
        "  for sentence in input_frame['name']:\n",
        "    vs = analyzer.polarity_scores(sentence)\n",
        "    sentiments.append(vs['compound'])\n",
        "  input_frame['sentiments'] = sentiments\n",
        "  \n",
        "  # input_frame['goal'] = (input_frame['goal'].str.split()).apply(lambda x: float(x[0].replace(',', '')))\n",
        "  # input_frame['backers']= input_frame['backers'].astype(str).astype(int)\n",
        "\n",
        "  # Dropping unecessary username column\n",
        "  input_frame = input_frame.drop('username', axis=1)\n",
        "  input_frame = input_frame.drop('name', axis=1)\n",
        "  input_frame = input_frame.drop('launched', axis=1)\n",
        "  input_frame = input_frame.drop('deadline', axis=1)\n",
        "\n",
        "  input_frame = input_frame[['goal', 'backers', 'length_of_campaign', 'sentiments', 'main_category']]\n",
        "\n",
        "  userinput = input_frame.iloc[[0]]\n",
        "\n",
        "  return userinput "
      ],
      "execution_count": null,
      "outputs": []
    },
    {
      "cell_type": "code",
      "metadata": {
        "id": "EtzT0CnwzL5N",
        "colab_type": "code",
        "colab": {}
      },
      "source": [
        "user_input = framemaker(input)"
      ],
      "execution_count": null,
      "outputs": []
    },
    {
      "cell_type": "code",
      "metadata": {
        "id": "rLl-88GJ3h-S",
        "colab_type": "code",
        "colab": {
          "base_uri": "https://localhost:8080/",
          "height": 77
        },
        "outputId": "b102bda4-0ffb-4e59-e22e-a061a08514a1"
      },
      "source": [
        "user_input"
      ],
      "execution_count": null,
      "outputs": [
        {
          "output_type": "execute_result",
          "data": {
            "text/html": [
              "<div>\n",
              "<style scoped>\n",
              "    .dataframe tbody tr th:only-of-type {\n",
              "        vertical-align: middle;\n",
              "    }\n",
              "\n",
              "    .dataframe tbody tr th {\n",
              "        vertical-align: top;\n",
              "    }\n",
              "\n",
              "    .dataframe thead th {\n",
              "        text-align: right;\n",
              "    }\n",
              "</style>\n",
              "<table border=\"1\" class=\"dataframe\">\n",
              "  <thead>\n",
              "    <tr style=\"text-align: right;\">\n",
              "      <th></th>\n",
              "      <th>goal</th>\n",
              "      <th>backers</th>\n",
              "      <th>length_of_campaign</th>\n",
              "      <th>sentiments</th>\n",
              "      <th>main_category</th>\n",
              "    </tr>\n",
              "  </thead>\n",
              "  <tbody>\n",
              "    <tr>\n",
              "      <th>0</th>\n",
              "      <td>10000</td>\n",
              "      <td>21</td>\n",
              "      <td>7</td>\n",
              "      <td>-0.4767</td>\n",
              "      <td>11</td>\n",
              "    </tr>\n",
              "  </tbody>\n",
              "</table>\n",
              "</div>"
            ],
            "text/plain": [
              "    goal  backers  length_of_campaign  sentiments  main_category\n",
              "0  10000       21                   7     -0.4767             11"
            ]
          },
          "metadata": {
            "tags": []
          },
          "execution_count": 231
        }
      ]
    },
    {
      "cell_type": "markdown",
      "metadata": {
        "id": "8DAfh6-a6gAH",
        "colab_type": "text"
      },
      "source": [
        "# Make function that takes in dataframe, uses model, and can make a prediction"
      ]
    },
    {
      "cell_type": "code",
      "metadata": {
        "id": "xgx3Fz9XyCMZ",
        "colab_type": "code",
        "colab": {
          "base_uri": "https://localhost:8080/",
          "height": 202
        },
        "outputId": "8d77c3e1-38c9-4d82-8911-ae2ee9623615"
      },
      "source": [
        "!pip install category_encoders==2.*\n",
        "from sklearn.model_selection import train_test_split\n",
        "import category_encoders as ce\n",
        "from sklearn.impute import SimpleImputer\n",
        "from sklearn.linear_model import LogisticRegressionCV\n",
        "from sklearn.preprocessing import StandardScaler\n",
        "from sklearn.pipeline import Pipeline\n",
        "from category_encoders import OneHotEncoder, OrdinalEncoder\n"
      ],
      "execution_count": null,
      "outputs": [
        {
          "output_type": "stream",
          "text": [
            "Requirement already satisfied: category_encoders==2.* in /usr/local/lib/python3.6/dist-packages (2.2.2)\n",
            "Requirement already satisfied: scikit-learn>=0.20.0 in /usr/local/lib/python3.6/dist-packages (from category_encoders==2.*) (0.22.2.post1)\n",
            "Requirement already satisfied: patsy>=0.5.1 in /usr/local/lib/python3.6/dist-packages (from category_encoders==2.*) (0.5.1)\n",
            "Requirement already satisfied: numpy>=1.14.0 in /usr/local/lib/python3.6/dist-packages (from category_encoders==2.*) (1.18.5)\n",
            "Requirement already satisfied: scipy>=1.0.0 in /usr/local/lib/python3.6/dist-packages (from category_encoders==2.*) (1.4.1)\n",
            "Requirement already satisfied: pandas>=0.21.1 in /usr/local/lib/python3.6/dist-packages (from category_encoders==2.*) (1.0.5)\n",
            "Requirement already satisfied: statsmodels>=0.9.0 in /usr/local/lib/python3.6/dist-packages (from category_encoders==2.*) (0.10.2)\n",
            "Requirement already satisfied: joblib>=0.11 in /usr/local/lib/python3.6/dist-packages (from scikit-learn>=0.20.0->category_encoders==2.*) (0.16.0)\n",
            "Requirement already satisfied: six in /usr/local/lib/python3.6/dist-packages (from patsy>=0.5.1->category_encoders==2.*) (1.15.0)\n",
            "Requirement already satisfied: python-dateutil>=2.6.1 in /usr/local/lib/python3.6/dist-packages (from pandas>=0.21.1->category_encoders==2.*) (2.8.1)\n",
            "Requirement already satisfied: pytz>=2017.2 in /usr/local/lib/python3.6/dist-packages (from pandas>=0.21.1->category_encoders==2.*) (2018.9)\n"
          ],
          "name": "stdout"
        }
      ]
    },
    {
      "cell_type": "code",
      "metadata": {
        "id": "2b52i0YD64Ba",
        "colab_type": "code",
        "colab": {
          "base_uri": "https://localhost:8080/",
          "height": 418
        },
        "outputId": "85aa2ec1-81ee-42e0-9d16-1e91f3fde20e"
      },
      "source": [
        "df = pd.read_csv('cleaned_kickstarter_data.csv')\n",
        "\n",
        "print(df.shape)\n",
        "df"
      ],
      "execution_count": null,
      "outputs": [
        {
          "output_type": "stream",
          "text": [
            "(999, 9)\n"
          ],
          "name": "stdout"
        },
        {
          "output_type": "execute_result",
          "data": {
            "text/html": [
              "<div>\n",
              "<style scoped>\n",
              "    .dataframe tbody tr th:only-of-type {\n",
              "        vertical-align: middle;\n",
              "    }\n",
              "\n",
              "    .dataframe tbody tr th {\n",
              "        vertical-align: top;\n",
              "    }\n",
              "\n",
              "    .dataframe thead th {\n",
              "        text-align: right;\n",
              "    }\n",
              "</style>\n",
              "<table border=\"1\" class=\"dataframe\">\n",
              "  <thead>\n",
              "    <tr style=\"text-align: right;\">\n",
              "      <th></th>\n",
              "      <th>name</th>\n",
              "      <th>main_category</th>\n",
              "      <th>deadline</th>\n",
              "      <th>launched</th>\n",
              "      <th>goal</th>\n",
              "      <th>backers</th>\n",
              "      <th>length_of_campaign</th>\n",
              "      <th>project_success</th>\n",
              "      <th>sentiments</th>\n",
              "    </tr>\n",
              "  </thead>\n",
              "  <tbody>\n",
              "    <tr>\n",
              "      <th>0</th>\n",
              "      <td>The Songs of Adelaide &amp; Abullah</td>\n",
              "      <td>1</td>\n",
              "      <td>2015-10-09 11:36:00</td>\n",
              "      <td>2015-08-11 12:12:28</td>\n",
              "      <td>1000.0</td>\n",
              "      <td>0</td>\n",
              "      <td>58</td>\n",
              "      <td>0</td>\n",
              "      <td>0.0000</td>\n",
              "    </tr>\n",
              "    <tr>\n",
              "      <th>1</th>\n",
              "      <td>Where is Hank?</td>\n",
              "      <td>2</td>\n",
              "      <td>2013-02-26 00:20:50</td>\n",
              "      <td>2013-01-12 00:20:50</td>\n",
              "      <td>45000.0</td>\n",
              "      <td>3</td>\n",
              "      <td>45</td>\n",
              "      <td>0</td>\n",
              "      <td>0.0000</td>\n",
              "    </tr>\n",
              "    <tr>\n",
              "      <th>2</th>\n",
              "      <td>ToshiCapital Rekordz Needs Help to Complete Album</td>\n",
              "      <td>3</td>\n",
              "      <td>2012-04-16 04:24:11</td>\n",
              "      <td>2012-03-17 03:24:11</td>\n",
              "      <td>5000.0</td>\n",
              "      <td>1</td>\n",
              "      <td>30</td>\n",
              "      <td>0</td>\n",
              "      <td>0.4019</td>\n",
              "    </tr>\n",
              "    <tr>\n",
              "      <th>3</th>\n",
              "      <td>Community Film Project: The Art of Neighborhoo...</td>\n",
              "      <td>2</td>\n",
              "      <td>2015-08-29 01:00:00</td>\n",
              "      <td>2015-07-04 08:35:03</td>\n",
              "      <td>19500.0</td>\n",
              "      <td>14</td>\n",
              "      <td>55</td>\n",
              "      <td>0</td>\n",
              "      <td>0.0000</td>\n",
              "    </tr>\n",
              "    <tr>\n",
              "      <th>4</th>\n",
              "      <td>Monarch Espresso Bar</td>\n",
              "      <td>4</td>\n",
              "      <td>2016-04-01 13:38:27</td>\n",
              "      <td>2016-02-26 13:38:27</td>\n",
              "      <td>50000.0</td>\n",
              "      <td>224</td>\n",
              "      <td>35</td>\n",
              "      <td>1</td>\n",
              "      <td>0.0000</td>\n",
              "    </tr>\n",
              "    <tr>\n",
              "      <th>...</th>\n",
              "      <td>...</td>\n",
              "      <td>...</td>\n",
              "      <td>...</td>\n",
              "      <td>...</td>\n",
              "      <td>...</td>\n",
              "      <td>...</td>\n",
              "      <td>...</td>\n",
              "      <td>...</td>\n",
              "      <td>...</td>\n",
              "    </tr>\n",
              "    <tr>\n",
              "      <th>994</th>\n",
              "      <td>The 1st Motion Tracking DIY Smart Home Securit...</td>\n",
              "      <td>13</td>\n",
              "      <td>2016-12-31 03:54:32</td>\n",
              "      <td>2016-11-01 02:54:32</td>\n",
              "      <td>25000.0</td>\n",
              "      <td>397</td>\n",
              "      <td>60</td>\n",
              "      <td>1</td>\n",
              "      <td>0.6249</td>\n",
              "    </tr>\n",
              "    <tr>\n",
              "      <th>995</th>\n",
              "      <td>Veterans</td>\n",
              "      <td>12</td>\n",
              "      <td>2012-08-15 06:00:00</td>\n",
              "      <td>2012-07-09 05:39:06</td>\n",
              "      <td>5000.0</td>\n",
              "      <td>87</td>\n",
              "      <td>37</td>\n",
              "      <td>1</td>\n",
              "      <td>0.0000</td>\n",
              "    </tr>\n",
              "    <tr>\n",
              "      <th>996</th>\n",
              "      <td>MY VERY FIRST KICKSTARTER</td>\n",
              "      <td>2</td>\n",
              "      <td>2014-08-12 20:08:35</td>\n",
              "      <td>2014-07-13 20:08:35</td>\n",
              "      <td>6500.0</td>\n",
              "      <td>2</td>\n",
              "      <td>30</td>\n",
              "      <td>0</td>\n",
              "      <td>0.0000</td>\n",
              "    </tr>\n",
              "    <tr>\n",
              "      <th>997</th>\n",
              "      <td>This Song Is About You</td>\n",
              "      <td>3</td>\n",
              "      <td>2014-07-11 23:35:00</td>\n",
              "      <td>2014-06-11 23:35:00</td>\n",
              "      <td>40000.0</td>\n",
              "      <td>0</td>\n",
              "      <td>30</td>\n",
              "      <td>0</td>\n",
              "      <td>0.0000</td>\n",
              "    </tr>\n",
              "    <tr>\n",
              "      <th>998</th>\n",
              "      <td>Telemedicine wound care provider locator</td>\n",
              "      <td>13</td>\n",
              "      <td>2016-10-09 00:22:31</td>\n",
              "      <td>2016-09-09 00:22:31</td>\n",
              "      <td>50000.0</td>\n",
              "      <td>5</td>\n",
              "      <td>30</td>\n",
              "      <td>0</td>\n",
              "      <td>0.4939</td>\n",
              "    </tr>\n",
              "  </tbody>\n",
              "</table>\n",
              "<p>999 rows × 9 columns</p>\n",
              "</div>"
            ],
            "text/plain": [
              "                                                  name  ... sentiments\n",
              "0                      The Songs of Adelaide & Abullah  ...     0.0000\n",
              "1                                       Where is Hank?  ...     0.0000\n",
              "2    ToshiCapital Rekordz Needs Help to Complete Album  ...     0.4019\n",
              "3    Community Film Project: The Art of Neighborhoo...  ...     0.0000\n",
              "4                                 Monarch Espresso Bar  ...     0.0000\n",
              "..                                                 ...  ...        ...\n",
              "994  The 1st Motion Tracking DIY Smart Home Securit...  ...     0.6249\n",
              "995                                           Veterans  ...     0.0000\n",
              "996                          MY VERY FIRST KICKSTARTER  ...     0.0000\n",
              "997                             This Song Is About You  ...     0.0000\n",
              "998           Telemedicine wound care provider locator  ...     0.4939\n",
              "\n",
              "[999 rows x 9 columns]"
            ]
          },
          "metadata": {
            "tags": []
          },
          "execution_count": 163
        }
      ]
    },
    {
      "cell_type": "code",
      "metadata": {
        "id": "VpFJM9jvgaia",
        "colab_type": "code",
        "colab": {}
      },
      "source": [
        "def success_predictor(user_input):\n",
        "  train, test = train_test_split(df, train_size=0.80, test_size=0.20, \n",
        "                                 stratify=df['project_success'], random_state=42)\n",
        "  # select our target \n",
        "  target = 'project_success'\n",
        "\n",
        "  # make train without our target or id\n",
        "  train_features = train.drop(columns=[target])\n",
        "\n",
        "  # make numeric features\n",
        "  numeric_features = train_features.select_dtypes(include='number').columns.tolist()\n",
        "\n",
        "  # make a cardinality feature to help filter\n",
        "  cardinality = train_features.select_dtypes(exclude='number').nunique()\n",
        "\n",
        "  # get a list of relevant categorical data\n",
        "  categorical_features = cardinality[cardinality <=50].index.tolist()\n",
        "\n",
        "  # Combine the lists \n",
        "  features = numeric_features + categorical_features\n",
        "\n",
        "  X_train = train[features]\n",
        "  y_train = train[target]\n",
        "  X_test = test[features]\n",
        "  y_test = test[target]\n",
        "  # print(features)\n",
        "  # print(X_train.shape, X_test.shape)\n",
        "\n",
        "  lrmodel = Pipeline([\n",
        "                  ('ohe', OneHotEncoder(use_cat_names=True)),\n",
        "                  ('scaler', StandardScaler()),  \n",
        "                  ('impute', SimpleImputer()),\n",
        "                  ('classifier', LogisticRegressionCV())\n",
        "                  ])\n",
        "  lrmodel.fit(X_train, y_train)\n",
        "\n",
        "  row = X_test.iloc[[4]]\n",
        "  # print(X_train)\n",
        "  # print('training accuracy:', lrmodel.score(X_train, y_train))\n",
        "  # print('test accuracy:', lrmodel.score(X_test, y_test))\n",
        "  # if lrmodel.predict(row) == 1:\n",
        "  #   return 'Your Kickstarter project is likely to succeed!'\n",
        "  # else:\n",
        "  #   return 'Your Kickstarter project is likely to fail.'\n",
        "  # print(X_test.head())\n",
        "  # print(user_input)\n",
        "  # print(y_test.head())\n",
        "  # print(y_test.iloc[[0]])\n",
        "\n",
        "  if lrmodel.predict(user_input) == 1:\n",
        "    return 'Your Kickstarter project is likely to succeed!'\n",
        "  else:\n",
        "    return 'Your Kickstarter project is likely to fail.'"
      ],
      "execution_count": null,
      "outputs": []
    },
    {
      "cell_type": "code",
      "metadata": {
        "id": "HAi5T6LRyx1i",
        "colab_type": "code",
        "colab": {
          "base_uri": "https://localhost:8080/",
          "height": 35
        },
        "outputId": "0fbdee51-b78c-4b4e-ca96-218acbbd3d92"
      },
      "source": [
        "success_predictor(user_input)"
      ],
      "execution_count": null,
      "outputs": [
        {
          "output_type": "execute_result",
          "data": {
            "application/vnd.google.colaboratory.intrinsic+json": {
              "type": "string"
            },
            "text/plain": [
              "'Your Kickstarter project is likely to fail.'"
            ]
          },
          "metadata": {
            "tags": []
          },
          "execution_count": 232
        }
      ]
    },
    {
      "cell_type": "code",
      "metadata": {
        "id": "yQ_52GcNEnkc",
        "colab_type": "code",
        "colab": {}
      },
      "source": [
        "# print(X_train)\n",
        "  # print('training accuracy:', lrmodel.score(X_train, y_train))\n",
        "  # print('test accuracy:', lrmodel.score(X_test, y_test))"
      ],
      "execution_count": null,
      "outputs": []
    }
  ]
}